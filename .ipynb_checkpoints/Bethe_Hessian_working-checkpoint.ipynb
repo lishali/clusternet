{
 "cells": [
  {
   "cell_type": "code",
   "execution_count": 1,
   "metadata": {
    "collapsed": true
   },
   "outputs": [],
   "source": [
    "import numpy as np\n",
    "import scipy as sp\n",
    "import pandas as pd\n",
    "import random\n",
    "import matplotlib.pyplot as plt\n",
    "import  networkx as nx\n",
    "import tensorflow as tf\n",
    "\n",
    "%matplotlib inline"
   ]
  },
  {
   "cell_type": "code",
   "execution_count": 2,
   "metadata": {
    "collapsed": false
   },
   "outputs": [
    {
     "data": {
      "text/plain": [
       "array([[ 0.,  1.,  0.,  1.,  0.,  0.,  0.,  0.,  0.,  0.,  0.,  0.],\n",
       "       [ 1.,  0.,  1.,  0.,  0.,  1.,  0.,  0.,  0.,  0.,  1.,  0.],\n",
       "       [ 0.,  1.,  0.,  0.,  0.,  1.,  0.,  0.,  0.,  0.,  0.,  1.],\n",
       "       [ 1.,  0.,  0.,  0.,  1.,  0.,  0.,  0.,  0.,  0.,  0.,  0.],\n",
       "       [ 0.,  0.,  0.,  1.,  0.,  0.,  0.,  0.,  0.,  1.,  1.,  0.],\n",
       "       [ 0.,  1.,  1.,  0.,  0.,  0.,  0.,  0.,  0.,  0.,  0.,  1.],\n",
       "       [ 0.,  0.,  0.,  0.,  0.,  0.,  0.,  1.,  1.,  0.,  1.,  0.],\n",
       "       [ 0.,  0.,  0.,  0.,  0.,  0.,  1.,  0.,  1.,  1.,  1.,  0.],\n",
       "       [ 0.,  0.,  0.,  0.,  0.,  0.,  1.,  1.,  0.,  1.,  1.,  1.],\n",
       "       [ 0.,  0.,  0.,  0.,  1.,  0.,  0.,  1.,  1.,  0.,  0.,  1.],\n",
       "       [ 0.,  1.,  0.,  0.,  1.,  0.,  1.,  1.,  1.,  0.,  0.,  0.],\n",
       "       [ 0.,  0.,  1.,  0.,  0.,  1.,  0.,  0.,  1.,  1.,  0.,  0.]])"
      ]
     },
     "execution_count": 2,
     "metadata": {},
     "output_type": "execute_result"
    }
   ],
   "source": [
    "def balanced_stochastic_blockmodel(communities=2, groupsize=3, p_in=1.0, p_out=0.0):\n",
    "    #gives dense adjacency matrix representaiton of randomly generated SBM with balanced community size\n",
    "\n",
    "    G = nx.planted_partition_graph(l=communities, k=groupsize, p_in=p_in, p_out =p_out)\n",
    "    A = nx.adjacency_matrix(G).todense()\n",
    "    \n",
    "    return A\n",
    "\n",
    "\n",
    "communities = 2 #number of communities, chance to \n",
    "group_size = 6 #number of nodes in each communitites (balanced so far)\n",
    "dim_graph = communities*group_size\n",
    "A = np.asarray(balanced_stochastic_blockmodel(communities=communities, groupsize=group_size, p_in=0.5, p_out=0.2)).astype(np.double)\n",
    "\n",
    "data = [np.asarray(balanced_stochastic_blockmodel(communities=communities, groupsize=group_size, p_in=0.5, p_out=0.2)).astype(np.float64) for i in range(100)]\n",
    "data[1]"
   ]
  },
  {
   "cell_type": "code",
   "execution_count": 3,
   "metadata": {
    "collapsed": false
   },
   "outputs": [
    {
     "name": "stdout",
     "output_type": "stream",
     "text": [
      "[array([ 3.05923993]), -17.582002877105602, array([[ 0.48523878, -0.67196621],\n",
      "       [-0.98420493,  1.006611  ]])]\n",
      "[array([-1.99537013]), -14.645440402921187, array([[ 0.70392115, -1.39593814],\n",
      "       [ 0.351965  ,  0.15934262]])]\n",
      "[array([-0.92830202]), -8.6270355575422322, array([[ 1.87739813, -0.60799193],\n",
      "       [ 1.78306146, -0.52507174]])]\n",
      "[array([-0.65208576]), -14.781249747021276, array([[ 0.65875418, -1.1032957 ],\n",
      "       [ 0.83589625,  1.45952181]])]\n",
      "[array([ 0.51431394]), -6.4003825869010535, array([[-0.06595127, -0.43541562],\n",
      "       [ 0.28237509,  0.78109758]])]\n",
      "[array([-0.15450143]), -14.609192468897993, array([[-0.31750946,  0.83904036],\n",
      "       [-0.87075515,  1.5013767 ]])]\n",
      "[array([-1.55449834]), -28.915727487177978, array([[-0.70682717,  2.27252048],\n",
      "       [-0.36664564,  0.84933227]])]\n",
      "[array([-0.25043337]), -39.765463118162693, array([[ 1.37487904,  3.01357896],\n",
      "       [-2.21581987, -0.49357137]])]\n",
      "[array([ 0.21729751]), -25.181655264180588, array([[-0.52254283, -1.09430227],\n",
      "       [ 1.11197007,  1.6329207 ]])]\n",
      "[array([-1.67115042]), -16.931641532407113, array([[ 0.23944986, -0.69845912],\n",
      "       [ 0.12526677,  1.78585925]])]\n"
     ]
    }
   ],
   "source": [
    "communities = 6\n",
    "Adj = tf.placeholder(tf.float64)\n",
    "\n",
    "Diag = tf.diag(tf.reduce_sum(Adj,0))\n",
    "Diag = tf.cast(Diag, tf.float64)\n",
    "\n",
    "r =  tf.Variable(tf.random_normal(shape=[1], mean=0.0,\n",
    "                                 stddev=2.0, dtype=tf.float64,\n",
    "                                 seed=None, name=None))\n",
    "\n",
    "Bethe_Hesse_neg = (tf.square(r)-1)*tf.diag(tf.ones(shape=[dim_graph], dtype=tf.float64))-tf.mul(r, Adj)+Diag \n",
    "\n",
    "eigenval, eigenvec = tf.self_adjoint_eig(Bethe_Hesse_neg)\n",
    "\n",
    "true_assignment_a = tf.concat(0, [tf.zeros([communities], dtype=tf.float64),\n",
    "                                      tf.ones([communities], dtype=tf.float64)])\n",
    "true_assignment_b = tf.concat(0, [tf.ones([communities], dtype=tf.float64),\n",
    "                                      tf.zeros([communities], dtype=tf.float64)])\n",
    "\n",
    "\n",
    "y_a = tf.pack([true_assignment_a, true_assignment_b]) \n",
    "y_b = tf.pack([true_assignment_b, true_assignment_a]) \n",
    "\n",
    "\n",
    "eigenvec_proj = tf.slice(eigenvec, [0,0], [dim_graph, 2])\n",
    "\n",
    "centers = tf.Variable(tf.random_normal(shape=[2,2],\n",
    "                                       mean=0.0, stddev=1.0, dtype=tf.float64,seed=None, name=None))\n",
    "\n",
    "expanded_vectors = tf.expand_dims(eigenvec_proj, 0)\n",
    "expanded_centers = tf.expand_dims(centers, 1)\n",
    "\n",
    "distances = tf.transpose(tf.reduce_sum(tf.square(tf.sub(expanded_vectors,\n",
    "                                                        expanded_centers)), 2))\n",
    "\n",
    "assignments = tf.nn.softmax(distances)\n",
    "\n",
    "loss_vec_a = y_a*tf.log(tf.transpose(assignments))\n",
    "loss_vec_b = y_b*tf.log(tf.transpose(assignments))\n",
    "\n",
    "loss = tf.minimum(tf.reduce_sum(loss_vec_a), tf.reduce_sum(loss_vec_a))\n",
    "\n",
    "\n",
    "\n",
    "optimizer = tf.train.GradientDescentOptimizer(0.001)\n",
    "train = optimizer.minimize(loss)\n",
    "\n",
    "eigenvec_grad = tf.gradients(eigenvec, r)\n",
    "loss_grad = tf.gradients(loss, r)\n",
    "\n",
    "init = tf.initialize_variables([r, centers])\n",
    "\n",
    "with tf.Session() as sess:\n",
    "    for i in range(10):\n",
    "        sess.run(init)\n",
    "#       sess.run(train)\n",
    "        print sess.run([r, loss, centers], feed_dict = {Adj: data[i]})\n",
    "    \n",
    "    \n",
    "\n",
    "\n",
    "\n"
   ]
  },
  {
   "cell_type": "code",
   "execution_count": 4,
   "metadata": {
    "collapsed": true
   },
   "outputs": [],
   "source": [
    "#now with training uncommentedout"
   ]
  },
  {
   "cell_type": "code",
   "execution_count": 39,
   "metadata": {
    "collapsed": false
   },
   "outputs": [
    {
     "name": "stdout",
     "output_type": "stream",
     "text": [
      "[array([-0.80005489]), [array([ 9.79694719])], [array([-1.98701186])], 80.859714974926163, array([[ 0.,  0.,  0.,  0.,  0.,  0.,  1.,  1.,  1.,  1.,  1.,  1.],\n",
      "       [ 1.,  1.,  1.,  1.,  1.,  1.,  0.,  0.,  0.,  0.,  0.,  0.]])]\n",
      "[array([-0.43659751]), [array([-4.58307354])], [array([ 1.68392781])], 77.553692330113861, array([[ 0.,  0.,  0.,  0.,  0.,  0.,  1.,  1.,  1.,  1.,  1.,  1.],\n",
      "       [ 1.,  1.,  1.,  1.,  1.,  1.,  0.,  0.,  0.,  0.,  0.,  0.]])]\n",
      "[array([-0.4539848]), [array([ 0.31788765])], [array([-1.11917682])], 81.061766717813185, array([[ 0.,  0.,  0.,  0.,  0.,  0.,  1.,  1.,  1.,  1.,  1.,  1.],\n",
      "       [ 1.,  1.,  1.,  1.,  1.,  1.,  0.,  0.,  0.,  0.,  0.,  0.]])]\n",
      "[array([ 0.12698334]), [array([ 11.42162481])], [array([-8.62615963])], 79.439033997694281, array([[ 0.,  0.,  0.,  0.,  0.,  0.,  1.,  1.,  1.,  1.,  1.,  1.],\n",
      "       [ 1.,  1.,  1.,  1.,  1.,  1.,  0.,  0.,  0.,  0.,  0.,  0.]])]\n",
      "[array([-0.3181855]), [array([ 6.73951226])], [array([ 5.23449881])], 82.768470799372238, array([[ 0.,  0.,  0.,  0.,  0.,  0.,  1.,  1.,  1.,  1.,  1.,  1.],\n",
      "       [ 1.,  1.,  1.,  1.,  1.,  1.,  0.,  0.,  0.,  0.,  0.,  0.]])]\n",
      "[array([-0.69595131]), [array([-1.93966004])], [array([ 0.28569067])], 74.435438953679238, array([[ 0.,  0.,  0.,  0.,  0.,  0.,  1.,  1.,  1.,  1.,  1.,  1.],\n",
      "       [ 1.,  1.,  1.,  1.,  1.,  1.,  0.,  0.,  0.,  0.,  0.,  0.]])]\n",
      "[array([ 0.23596093]), [array([-1.82086183])], [array([-3.64854591])], 83.951116555286973, array([[ 0.,  0.,  0.,  0.,  0.,  0.,  1.,  1.,  1.,  1.,  1.,  1.],\n",
      "       [ 1.,  1.,  1.,  1.,  1.,  1.,  0.,  0.,  0.,  0.,  0.,  0.]])]\n",
      "[array([ 1.14461804]), [array([ 0.03115408])], [array([ 0.47209244])], 76.860052868654321, array([[ 0.,  0.,  0.,  0.,  0.,  0.,  1.,  1.,  1.,  1.,  1.,  1.],\n",
      "       [ 1.,  1.,  1.,  1.,  1.,  1.,  0.,  0.,  0.,  0.,  0.,  0.]])]\n",
      "[array([ 1.40093678]), [array([-1.98725797])], [array([ 1.11279248])], 75.876324155799978, array([[ 0.,  0.,  0.,  0.,  0.,  0.,  1.,  1.,  1.,  1.,  1.,  1.],\n",
      "       [ 1.,  1.,  1.,  1.,  1.,  1.,  0.,  0.,  0.,  0.,  0.,  0.]])]\n",
      "[array([ 1.3110159]), [array([ 1.08848959])], [array([-1.0653423])], 77.552544538831427, array([[ 0.,  0.,  0.,  0.,  0.,  0.,  1.,  1.,  1.,  1.,  1.,  1.],\n",
      "       [ 1.,  1.,  1.,  1.,  1.,  1.,  0.,  0.,  0.,  0.,  0.,  0.]])]\n"
     ]
    }
   ],
   "source": [
    "communities = 6\n",
    "Adj = tf.placeholder(tf.float64)\n",
    "Adj = tf.cast(Adj, tf.float64)\n",
    "\n",
    "Diag = tf.diag(tf.reduce_sum(Adj,0))\n",
    "Diag = tf.cast(Diag, tf.float64)\n",
    "\n",
    "#r =  tf.Variable(tf.constant(2.1), dtype = tf.float64)\n",
    "r = tf.Variable(tf.random_normal(shape=[1], mean=0.0, stddev=2.0, dtype=tf.float64,seed=None, name=None))\n",
    "\n",
    "Bethe_Hesse_neg = (tf.square(r)-1)*tf.diag(tf.ones(shape=[dim_graph], dtype=tf.float64))-tf.mul(r, Adj)+Diag \n",
    "\n",
    "eigenval, eigenvec = tf.self_adjoint_eig(Bethe_Hesse_neg)\n",
    "\n",
    "true_assignment_a = tf.concat(0, [tf.zeros([communities], dtype=tf.float64),\n",
    "                                      tf.ones([communities], dtype=tf.float64)])\n",
    "true_assignment_b = tf.concat(0, [tf.ones([communities], dtype=tf.float64),\n",
    "                                      tf.zeros([communities], dtype=tf.float64)])\n",
    "\n",
    "y_a = tf.pack([true_assignment_a, true_assignment_b]) \n",
    "\n",
    "eigenvec_proj = tf.nn.softmax(tf.slice(eigenvec, [0,0], [dim_graph, 2]))\n",
    "eigenvec_proj = tf.cast(tf.reduce_sum(eigenvec, 1), dtype = tf.float64)\n",
    "\n",
    "\n",
    "loss =  tf.minimum(tf.reduce_sum(tf.square(tf.sub(eigenvec, true_assignment_a))), \n",
    "              tf.reduce_sum(tf.square(tf.sub(eigenvec, true_assignment_b))))\n",
    "#tf.reduce_sum(tf.square(tf.sub(c, true_assignment_a)))\n",
    "\n",
    "\n",
    "optimizer = tf.train.GradientDescentOptimizer(0.1)\n",
    "train = optimizer.minimize(loss, var_list=[r])\n",
    "\n",
    "eigenvec_grad = tf.gradients(eigenvec, r)\n",
    "loss_grad = tf.gradients(loss, r)\n",
    "\n",
    "init = tf.initialize_variables([r])\n",
    "\n",
    "with tf.Session() as sess:\n",
    "    sess.run(init)\n",
    "    for i in range(10):\n",
    "        sess.run(train, feed_dict = {Adj: data[i]})\n",
    "        print sess.run([r, loss_grad, eigenvec_grad, loss, y_a], feed_dict = {Adj: data[i]})\n",
    "    \n",
    "    \n",
    "\n"
   ]
  },
  {
   "cell_type": "code",
   "execution_count": 33,
   "metadata": {
    "collapsed": true
   },
   "outputs": [],
   "source": [
    "\n",
    "tf.reset_default_graph()"
   ]
  },
  {
   "cell_type": "code",
   "execution_count": 38,
   "metadata": {
    "collapsed": true
   },
   "outputs": [],
   "source": [
    "?tf.pack\n"
   ]
  },
  {
   "cell_type": "code",
   "execution_count": 8,
   "metadata": {
    "collapsed": true
   },
   "outputs": [],
   "source": [
    "tw = tf.train.SummaryWriter('./logDir',sess.graph)\n",
    "\n",
    "# Train your network\n",
    "\n",
    "tw.flush()\n",
    "tw.close()"
   ]
  },
  {
   "cell_type": "code",
   "execution_count": 38,
   "metadata": {
    "collapsed": false
   },
   "outputs": [
    {
     "data": {
      "text/plain": [
       "array([[ 0.,  1.,  0.,  1.,  1.,  0.,  0.,  0.,  0.,  1.],\n",
       "       [ 1.,  0.,  1.,  1.,  1.,  0.,  0.,  0.,  0.,  1.],\n",
       "       [ 0.,  1.,  0.,  1.,  1.,  1.,  0.,  0.,  1.,  1.],\n",
       "       [ 1.,  1.,  1.,  0.,  1.,  0.,  1.,  0.,  0.,  1.],\n",
       "       [ 1.,  1.,  1.,  1.,  0.,  0.,  1.,  0.,  0.,  1.],\n",
       "       [ 0.,  0.,  1.,  0.,  0.,  0.,  1.,  0.,  1.,  1.],\n",
       "       [ 0.,  0.,  0.,  1.,  1.,  1.,  0.,  1.,  0.,  0.],\n",
       "       [ 0.,  0.,  0.,  0.,  0.,  0.,  1.,  0.,  1.,  1.],\n",
       "       [ 0.,  0.,  1.,  0.,  0.,  1.,  0.,  1.,  0.,  0.],\n",
       "       [ 1.,  1.,  1.,  1.,  1.,  1.,  0.,  1.,  0.,  0.]])"
      ]
     },
     "execution_count": 38,
     "metadata": {},
     "output_type": "execute_result"
    }
   ],
   "source": [
    "communities = 2 #number of communities, chance to \n",
    "group_size = 5\n",
    "data = [np.asarray(balanced_stochastic_blockmodel(communities=communities, groupsize=group_size, p_in=0.8, p_out=0.3)).astype(np.float64) for i in range(1000)]\n",
    "data[1]"
   ]
  },
  {
   "cell_type": "code",
   "execution_count": 53,
   "metadata": {
    "collapsed": false
   },
   "outputs": [
    {
     "name": "stdout",
     "output_type": "stream",
     "text": [
      "[5.786448819254435, array([1, 1, 1, 1, 1, 0, 1, 1, 0, 1]), array([ 0.95610812]), 4.2000000000000002, array([[-0.15236526,  0.81405732],\n",
      "       [ 0.14181189, -0.15286577]]), array([[-0.31730845,  0.32506619],\n",
      "       [-0.31588982, -0.07618329]])]\n",
      "[5.1170808988547529, array([1, 1, 1, 1, 1, 0, 0, 0, 1, 1]), array([ 1.64406844]), 5.2000000000000002, array([[-0.15236526,  0.81405732],\n",
      "       [ 0.14181189, -0.15286577]]), array([[-0.28199102,  0.41914946],\n",
      "       [-0.3288483 , -0.15155647]])]\n",
      "[4.7725667909998837, array([1, 1, 1, 1, 1, 1, 1, 0, 0, 0]), array([ 2.32061393]), 5.7999999999999998, array([[-0.15236526,  0.81405732],\n",
      "       [ 0.14181189, -0.15286577]]), array([[-0.32764608,  0.31990748],\n",
      "       [-0.31036049, -0.15957133]])]\n",
      "[5.3100322273663849, array([1, 1, 1, 1, 1, 1, 1, 1, 1, 1]), array([ 2.55736504]), 4.5999999999999996, array([[-0.15236526,  0.81405732],\n",
      "       [ 0.14181189, -0.15286577]]), array([[        nan,         nan],\n",
      "       [ 0.31444076, -0.01014541]])]\n",
      "[4.7497377731069506, array([1, 1, 1, 1, 1, 0, 1, 0, 0, 0]), array([ 2.75341863]), 5.2000000000000002, array([[-0.15236526,  0.81405732],\n",
      "       [ 0.14181189, -0.15286577]]), array([[-0.27421628,  0.36130056],\n",
      "       [-0.33686333, -0.17969246]])]\n",
      "[5.664707299349832, array([1, 1, 1, 1, 1, 1, 1, 1, 1, 1]), array([ 2.86778184]), 4.4000000000000004, array([[-0.15236526,  0.81405732],\n",
      "       [ 0.14181189, -0.15286577]]), array([[        nan,         nan],\n",
      "       [ 0.30769027, -0.05031229]])]\n",
      "[5.7009146885771784, array([1, 1, 1, 0, 1, 1, 0, 0, 1, 0]), array([ 2.87949377]), 3.6000000000000001, array([[-0.15236526,  0.81405732],\n",
      "       [ 0.14181189, -0.15286577]]), array([[-0.21262942,  0.42044559],\n",
      "       [-0.3616275 , -0.14572089]])]\n",
      "[5.7766127147530852, array([0, 1, 1, 1, 1, 1, 1, 1, 1, 1]), array([ 2.92850867]), 6.2000000000000002, array([[-0.15236526,  0.81405732],\n",
      "       [ 0.14181189, -0.15286577]]), array([[ 0.28555   ,  0.47798064],\n",
      "       [ 0.31782382, -0.06599248]])]\n",
      "[5.1140831398684625, array([1, 1, 0, 1, 1, 1, 1, 1, 1, 1]), array([ 3.09480111]), 4.0, array([[-0.15236526,  0.81405732],\n",
      "       [ 0.14181189, -0.15286577]]), array([[ 0.18438365,  0.39883743],\n",
      "       [ 0.32195866, -0.01732962]])]\n",
      "[4.7972077757581966, array([1, 1, 1, 1, 1, 0, 1, 0, 0, 0]), array([ 3.12310083]), 4.4000000000000004, array([[-0.15236526,  0.81405732],\n",
      "       [ 0.14181189, -0.15286577]]), array([[-0.24786184,  0.40866024],\n",
      "       [-0.35183734, -0.184257  ]])]\n"
     ]
    }
   ],
   "source": [
    "communities = 2\n",
    "group_size=5\n",
    "dim_graph=communities*group_size\n",
    "\n",
    "Adj = tf.placeholder(tf.float64)\n",
    "Adj = tf.cast(Adj, tf.float64)\n",
    "\n",
    "Diag = tf.diag(tf.reduce_sum(Adj,0))\n",
    "Diag = tf.cast(Diag, tf.float64)\n",
    "\n",
    "average_degree = tf.reduce_sum(Adj)/dim_graph\n",
    "\n",
    "#r =  tf.Variable(tf.constant(2.1), dtype = tf.float64)\n",
    "r = tf.Variable(tf.random_normal(shape=[1], mean=0.0, stddev=2.0, dtype=tf.float64,seed=None, name=None))\n",
    "\n",
    "Bethe_Hesse_neg = (tf.square(r)-1)*tf.diag(tf.ones(shape=[dim_graph], dtype=tf.float64))-tf.mul(r, Adj)+Diag \n",
    "\n",
    "eigenval, eigenvec = tf.self_adjoint_eig(Bethe_Hesse_neg)\n",
    "\n",
    "true_assignment_a = tf.concat(0, [tf.zeros([group_size], dtype=tf.float64),\n",
    "                                      tf.ones([group_size], dtype=tf.float64)])\n",
    "true_assignment_b = tf.concat(0, [tf.ones([group_size], dtype=tf.float64),\n",
    "                                      tf.zeros([group_size], dtype=tf.float64)])\n",
    "\n",
    "y_a = tf.pack([true_assignment_a, true_assignment_b]) \n",
    "y_b = tf.pack([true_assignment_b, true_assignment_a]) \n",
    "\n",
    "\n",
    "eigenvec_proj = tf.slice(eigenvec, [0,0], [dim_graph, 2])\n",
    "\n",
    "\n",
    "center = tf.Variable(tf.truncated_normal(shape=[2,2],\n",
    "                                       mean=0.0, stddev=0.6, dtype=tf.float64,seed=None, name=None))\n",
    "\n",
    "expanded_vectors = tf.expand_dims(eigenvec_proj, 0)\n",
    "expanded_centers = tf.expand_dims(center, 1)\n",
    "\n",
    "distances = tf.reduce_sum(tf.square(tf.sub(expanded_vectors, expanded_centers)), 2)\n",
    "\n",
    "hard_assignment = tf.argmin(distances, 0)\n",
    "new_centers = tf.concat(0, [tf.reduce_mean(tf.gather(eigenvec_proj,\n",
    "                                                     tf.reshape(tf.where(tf.equal(hard_assignment, c)),\n",
    "                                                                [1,-1])), reduction_indices=[1]) for c in xrange(communities)])\n",
    "\n",
    "#a = tf.slice(new_centers, [0,0], [1,2])\n",
    "#b = tf.slice(new_centers, [1,0], [1,2])\n",
    "update_centers = tf.assign(center, new_centers)\n",
    "\n",
    "\n",
    "assignments = 1-tf.nn.softmax(tf.transpose(distances)) #this ensures that the smaller distances are actually the correct assignments as being far from the centers make it less likely it is in that cluster\n",
    "#warning, the above transform will definitely not work for more than 2 centers, so need to be more clever later...\n",
    "#like basically sum the other two entries and subtract, this will be the generalized algo.... \n",
    "\n",
    "\n",
    "loss_vec_a = y_a*tf.log(tf.transpose(assignments))\n",
    "loss_vec_b = y_b*tf.log(tf.transpose(assignments))\n",
    "\n",
    "loss = tf.minimum(-tf.reduce_sum(loss_vec_a), -tf.reduce_sum(loss_vec_b))\n",
    "\n",
    "\n",
    "#loss =  tf.minimum(tf.reduce_sum(tf.square(tf.sub(eigenvec, true_assignment_a))),tf.reduce_sum(tf.square(tf.sub(eigenvec, true_assignment_b))))\n",
    "\n",
    "\n",
    "optimizer = tf.train.GradientDescentOptimizer(0.5)\n",
    "train = optimizer.minimize(loss, var_list=[r])\n",
    "\n",
    "eigenvec_grad = tf.gradients(eigenvec, r)\n",
    "loss_grad = tf.gradients(loss, r)\n",
    "\n",
    "init = tf.initialize_variables([r, center])\n",
    "\n",
    "with tf.Session() as sess:\n",
    "    sess.run(init)\n",
    "    sess.run(train, feed_dict = {Adj: data[i]})\n",
    "    for i in range(100):\n",
    "        sess.run([train], feed_dict = {Adj: data[i]})\n",
    "        if i%10 ==0:\n",
    "            print sess.run([loss, hard_assignment, r, average_degree, center, new_centers], feed_dict = {Adj: data[i]})\n",
    "    \n",
    "#, distances, assignments,  loss_grad, eigenvec_grad, \n",
    "\n"
   ]
  },
  {
   "cell_type": "code",
   "execution_count": null,
   "metadata": {
    "collapsed": true
   },
   "outputs": [],
   "source": [
    "\n",
    "tf.reset_default_graph()"
   ]
  },
  {
   "cell_type": "code",
   "execution_count": 45,
   "metadata": {
    "collapsed": true
   },
   "outputs": [],
   "source": [
    "#does backprop not play well with update centers? \n",
    "?tf.assign\n"
   ]
  },
  {
   "cell_type": "code",
   "execution_count": 119,
   "metadata": {
    "collapsed": true
   },
   "outputs": [],
   "source": [
    "\n",
    "\n",
    "center_1 = tf.Variable(tf.random_normal(shape=[2,1],\n",
    "                                       mean=1.0, stddev=1.0, dtype=tf.float64,seed=None, name=None))\n",
    "center_2 = tf.Variable(tf.random_normal(shape=[2,1],\n",
    "                                       mean=-1.0, stddev=1.0, dtype=tf.float64,seed=None, name=None))\n",
    "center = tf.pack([center_1, center_2])"
   ]
  },
  {
   "cell_type": "code",
   "execution_count": 293,
   "metadata": {
    "collapsed": true
   },
   "outputs": [],
   "source": [
    "\n",
    "from tensorflow.python.framework import ops\n",
    "from tensorflow.python.ops import array_ops\n",
    "from tensorflow.python.ops import control_flow_ops\n",
    "from tensorflow.python.ops import linalg_ops\n",
    "from tensorflow.python.ops import math_ops\n"
   ]
  },
  {
   "cell_type": "code",
   "execution_count": 294,
   "metadata": {
    "collapsed": true
   },
   "outputs": [],
   "source": [
    "\n",
    "@ops.RegisterGradient(\"aj\")\n",
    "def GradientTest2(op, grad_e, grad_v):\n",
    "    \"\"\"Gradient for SelfAdjointEigV2 derived with Joan with grad_stiefel instead of grassman\"\"\"\n",
    "    e = op.outputs[0]\n",
    "    v = op.outputs[1]\n",
    "    with ops.control_dependencies([grad_e.op, grad_v.op]):\n",
    "        if grad_v is not None:  \n",
    "            E = array_ops.diag(e)\n",
    "            #v_proj = arrary.ops.slice(v, [0,0], [])\n",
    "            grad_stiefel = grad_v - math_ops.batch_matmul(math_ops.batch_matmul(v, grad_v), array_ops.transpose(v))\n",
    "            grad_a = math_ops.batch_matmul(E, math_ops.batch_matmul(v, array_ops.transpose(grad_stiefel))\n",
    "                                           +math_ops.batch_matmul(grad_stiefel, array_ops.transpose(v)))\n",
    "    return grad_a "
   ]
  },
  {
   "cell_type": "code",
   "execution_count": 331,
   "metadata": {
    "collapsed": false
   },
   "outputs": [
    {
     "name": "stdout",
     "output_type": "stream",
     "text": [
      "0\n",
      "[[array([-12309.63352249])], 13.920444696692382, array([0, 1, 0, 1, 0, 1, 1, 0, 1, 1, 0, 1, 1, 1, 1, 1, 0, 1, 0, 1]), array([-72.74624379])]\n",
      "1\n",
      "[[array([ -1.96003131e+08])], 13.894509660277405, array([1, 0, 0, 1, 0, 1, 1, 1, 1, 0, 0, 0, 0, 1, 0, 1, 1, 0, 1, 1]), array([-8548.78539455])]\n",
      "2\n",
      "[[array([  3.01860878e+18])], 11.91627021458927, array([0, 1, 1, 1, 1, 1, 0, 1, 1, 1, 0, 0, 0, 0, 0, 0, 0, 0, 0, 0]), array([  5.28295945e+08])]\n",
      "3\n",
      "[[array([  2.00242843e+40])], 12.991533707421294, array([1, 0, 0, 1, 1, 1, 1, 1, 0, 1, 1, 0, 1, 1, 0, 0, 1, 0, 0, 0]), array([ -3.37268165e+18])]\n",
      "4\n",
      "[[array([  1.51177487e+106])], 13.897657399737637, array([1, 0, 1, 1, 0, 0, 1, 1, 1, 1, 0, 1, 1, 0, 1, 1, 1, 1, 1, 0]), array([ -1.59501786e+40])]\n",
      "5\n",
      "[[array([  3.92384460e+300])], 13.439257379600004, array([1, 0, 0, 1, 0, 0, 1, 0, 1, 1, 1, 0, 1, 0, 1, 0, 0, 0, 1, 0]), array([ -1.67974986e+105])]\n",
      "6\n"
     ]
    },
    {
     "ename": "InvalidArgumentError",
     "evalue": "Self Adjoint Eigen decomposition was not successful. The input might not be valid.\n\t [[Node: SelfAdjointEigV2_22 = SelfAdjointEigV2[T=DT_DOUBLE, _gradient_op_type=\"aj\", compute_v=true, _device=\"/job:localhost/replica:0/task:0/cpu:0\"](add_22)]]\nCaused by op u'SelfAdjointEigV2_22', defined at:\n  File \"/Users/xiangli/anaconda/lib/python2.7/runpy.py\", line 162, in _run_module_as_main\n    \"__main__\", fname, loader, pkg_name)\n  File \"/Users/xiangli/anaconda/lib/python2.7/runpy.py\", line 72, in _run_code\n    exec code in run_globals\n  File \"/Users/xiangli/anaconda/lib/python2.7/site-packages/ipykernel/__main__.py\", line 3, in <module>\n    app.launch_new_instance()\n  File \"/Users/xiangli/anaconda/lib/python2.7/site-packages/traitlets/config/application.py\", line 596, in launch_instance\n    app.start()\n  File \"/Users/xiangli/anaconda/lib/python2.7/site-packages/ipykernel/kernelapp.py\", line 442, in start\n    ioloop.IOLoop.instance().start()\n  File \"/Users/xiangli/anaconda/lib/python2.7/site-packages/zmq/eventloop/ioloop.py\", line 162, in start\n    super(ZMQIOLoop, self).start()\n  File \"/Users/xiangli/anaconda/lib/python2.7/site-packages/tornado/ioloop.py\", line 883, in start\n    handler_func(fd_obj, events)\n  File \"/Users/xiangli/anaconda/lib/python2.7/site-packages/tornado/stack_context.py\", line 275, in null_wrapper\n    return fn(*args, **kwargs)\n  File \"/Users/xiangli/anaconda/lib/python2.7/site-packages/zmq/eventloop/zmqstream.py\", line 440, in _handle_events\n    self._handle_recv()\n  File \"/Users/xiangli/anaconda/lib/python2.7/site-packages/zmq/eventloop/zmqstream.py\", line 472, in _handle_recv\n    self._run_callback(callback, msg)\n  File \"/Users/xiangli/anaconda/lib/python2.7/site-packages/zmq/eventloop/zmqstream.py\", line 414, in _run_callback\n    callback(*args, **kwargs)\n  File \"/Users/xiangli/anaconda/lib/python2.7/site-packages/tornado/stack_context.py\", line 275, in null_wrapper\n    return fn(*args, **kwargs)\n  File \"/Users/xiangli/anaconda/lib/python2.7/site-packages/ipykernel/kernelbase.py\", line 276, in dispatcher\n    return self.dispatch_shell(stream, msg)\n  File \"/Users/xiangli/anaconda/lib/python2.7/site-packages/ipykernel/kernelbase.py\", line 228, in dispatch_shell\n    handler(stream, idents, msg)\n  File \"/Users/xiangli/anaconda/lib/python2.7/site-packages/ipykernel/kernelbase.py\", line 391, in execute_request\n    user_expressions, allow_stdin)\n  File \"/Users/xiangli/anaconda/lib/python2.7/site-packages/ipykernel/ipkernel.py\", line 199, in do_execute\n    shell.run_cell(code, store_history=store_history, silent=silent)\n  File \"/Users/xiangli/anaconda/lib/python2.7/site-packages/IPython/core/interactiveshell.py\", line 2723, in run_cell\n    interactivity=interactivity, compiler=compiler, result=result)\n  File \"/Users/xiangli/anaconda/lib/python2.7/site-packages/IPython/core/interactiveshell.py\", line 2825, in run_ast_nodes\n    if self.run_code(code, result):\n  File \"/Users/xiangli/anaconda/lib/python2.7/site-packages/IPython/core/interactiveshell.py\", line 2885, in run_code\n    exec(code_obj, self.user_global_ns, self.user_ns)\n  File \"<ipython-input-331-f519912c7c35>\", line 28, in <module>\n    eigenval, eigenvec = tf.self_adjoint_eig(Bethe_Hesse_neg)\n  File \"/Users/xiangli/anaconda/lib/python2.7/site-packages/tensorflow/python/ops/linalg_ops.py\", line 161, in self_adjoint_eig\n    e, v = gen_linalg_ops._self_adjoint_eig_v2(tensor, compute_v=True, name=name)\n  File \"/Users/xiangli/anaconda/lib/python2.7/site-packages/tensorflow/python/ops/gen_linalg_ops.py\", line 519, in _self_adjoint_eig_v2\n    compute_v=compute_v, name=name)\n  File \"/Users/xiangli/anaconda/lib/python2.7/site-packages/tensorflow/python/framework/op_def_library.py\", line 749, in apply_op\n    op_def=op_def)\n  File \"/Users/xiangli/anaconda/lib/python2.7/site-packages/tensorflow/python/framework/ops.py\", line 2380, in create_op\n    original_op=self._default_original_op, op_def=op_def)\n  File \"/Users/xiangli/anaconda/lib/python2.7/site-packages/tensorflow/python/framework/ops.py\", line 1298, in __init__\n    self._traceback = _extract_stack()\n",
     "output_type": "error",
     "traceback": [
      "\u001b[0;31m---------------------------------------------------------------------------\u001b[0m",
      "\u001b[0;31mInvalidArgumentError\u001b[0m                      Traceback (most recent call last)",
      "\u001b[0;32m<ipython-input-331-f519912c7c35>\u001b[0m in \u001b[0;36m<module>\u001b[0;34m()\u001b[0m\n\u001b[1;32m     89\u001b[0m             \u001b[0;32mif\u001b[0m \u001b[0mi\u001b[0m\u001b[0;34m%\u001b[0m\u001b[0;36m1\u001b[0m \u001b[0;34m==\u001b[0m\u001b[0;36m0\u001b[0m\u001b[0;34m:\u001b[0m\u001b[0;34m\u001b[0m\u001b[0m\n\u001b[1;32m     90\u001b[0m                 \u001b[0;32mprint\u001b[0m \u001b[0mi\u001b[0m\u001b[0;34m\u001b[0m\u001b[0m\n\u001b[0;32m---> 91\u001b[0;31m                 \u001b[0;32mprint\u001b[0m \u001b[0msess\u001b[0m\u001b[0;34m.\u001b[0m\u001b[0mrun\u001b[0m\u001b[0;34m(\u001b[0m\u001b[0;34m[\u001b[0m\u001b[0mloss_grad\u001b[0m\u001b[0;34m,\u001b[0m \u001b[0mloss\u001b[0m\u001b[0;34m,\u001b[0m \u001b[0mhard_assignment\u001b[0m\u001b[0;34m,\u001b[0m \u001b[0mr\u001b[0m\u001b[0;34m]\u001b[0m\u001b[0;34m,\u001b[0m \u001b[0mfeed_dict\u001b[0m \u001b[0;34m=\u001b[0m \u001b[0;34m{\u001b[0m\u001b[0mAdj\u001b[0m\u001b[0;34m:\u001b[0m \u001b[0mdata\u001b[0m\u001b[0;34m[\u001b[0m\u001b[0mi\u001b[0m\u001b[0;34m]\u001b[0m\u001b[0;34m}\u001b[0m\u001b[0;34m)\u001b[0m\u001b[0;34m\u001b[0m\u001b[0m\n\u001b[0m\u001b[1;32m     92\u001b[0m \u001b[0;34m\u001b[0m\u001b[0m\n\u001b[1;32m     93\u001b[0m \u001b[0;31m#, distances, assignments,  loss_grad, eigenvec_grad,\u001b[0m\u001b[0;34m\u001b[0m\u001b[0;34m\u001b[0m\u001b[0m\n",
      "\u001b[0;32m/Users/xiangli/anaconda/lib/python2.7/site-packages/tensorflow/python/client/session.pyc\u001b[0m in \u001b[0;36mrun\u001b[0;34m(self, fetches, feed_dict, options, run_metadata)\u001b[0m\n\u001b[1;32m    715\u001b[0m     \u001b[0;32mtry\u001b[0m\u001b[0;34m:\u001b[0m\u001b[0;34m\u001b[0m\u001b[0m\n\u001b[1;32m    716\u001b[0m       result = self._run(None, fetches, feed_dict, options_ptr,\n\u001b[0;32m--> 717\u001b[0;31m                          run_metadata_ptr)\n\u001b[0m\u001b[1;32m    718\u001b[0m       \u001b[0;32mif\u001b[0m \u001b[0mrun_metadata\u001b[0m\u001b[0;34m:\u001b[0m\u001b[0;34m\u001b[0m\u001b[0m\n\u001b[1;32m    719\u001b[0m         \u001b[0mproto_data\u001b[0m \u001b[0;34m=\u001b[0m \u001b[0mtf_session\u001b[0m\u001b[0;34m.\u001b[0m\u001b[0mTF_GetBuffer\u001b[0m\u001b[0;34m(\u001b[0m\u001b[0mrun_metadata_ptr\u001b[0m\u001b[0;34m)\u001b[0m\u001b[0;34m\u001b[0m\u001b[0m\n",
      "\u001b[0;32m/Users/xiangli/anaconda/lib/python2.7/site-packages/tensorflow/python/client/session.pyc\u001b[0m in \u001b[0;36m_run\u001b[0;34m(self, handle, fetches, feed_dict, options, run_metadata)\u001b[0m\n\u001b[1;32m    913\u001b[0m     \u001b[0;32mif\u001b[0m \u001b[0mfinal_fetches\u001b[0m \u001b[0;32mor\u001b[0m \u001b[0mfinal_targets\u001b[0m\u001b[0;34m:\u001b[0m\u001b[0;34m\u001b[0m\u001b[0m\n\u001b[1;32m    914\u001b[0m       results = self._do_run(handle, final_targets, final_fetches,\n\u001b[0;32m--> 915\u001b[0;31m                              feed_dict_string, options, run_metadata)\n\u001b[0m\u001b[1;32m    916\u001b[0m     \u001b[0;32melse\u001b[0m\u001b[0;34m:\u001b[0m\u001b[0;34m\u001b[0m\u001b[0m\n\u001b[1;32m    917\u001b[0m       \u001b[0mresults\u001b[0m \u001b[0;34m=\u001b[0m \u001b[0;34m[\u001b[0m\u001b[0;34m]\u001b[0m\u001b[0;34m\u001b[0m\u001b[0m\n",
      "\u001b[0;32m/Users/xiangli/anaconda/lib/python2.7/site-packages/tensorflow/python/client/session.pyc\u001b[0m in \u001b[0;36m_do_run\u001b[0;34m(self, handle, target_list, fetch_list, feed_dict, options, run_metadata)\u001b[0m\n\u001b[1;32m    963\u001b[0m     \u001b[0;32mif\u001b[0m \u001b[0mhandle\u001b[0m \u001b[0;32mis\u001b[0m \u001b[0mNone\u001b[0m\u001b[0;34m:\u001b[0m\u001b[0;34m\u001b[0m\u001b[0m\n\u001b[1;32m    964\u001b[0m       return self._do_call(_run_fn, self._session, feed_dict, fetch_list,\n\u001b[0;32m--> 965\u001b[0;31m                            target_list, options, run_metadata)\n\u001b[0m\u001b[1;32m    966\u001b[0m     \u001b[0;32melse\u001b[0m\u001b[0;34m:\u001b[0m\u001b[0;34m\u001b[0m\u001b[0m\n\u001b[1;32m    967\u001b[0m       return self._do_call(_prun_fn, self._session, handle, feed_dict,\n",
      "\u001b[0;32m/Users/xiangli/anaconda/lib/python2.7/site-packages/tensorflow/python/client/session.pyc\u001b[0m in \u001b[0;36m_do_call\u001b[0;34m(self, fn, *args)\u001b[0m\n\u001b[1;32m    983\u001b[0m         \u001b[0;32mexcept\u001b[0m \u001b[0mKeyError\u001b[0m\u001b[0;34m:\u001b[0m\u001b[0;34m\u001b[0m\u001b[0m\n\u001b[1;32m    984\u001b[0m           \u001b[0;32mpass\u001b[0m\u001b[0;34m\u001b[0m\u001b[0m\n\u001b[0;32m--> 985\u001b[0;31m       \u001b[0;32mraise\u001b[0m \u001b[0mtype\u001b[0m\u001b[0;34m(\u001b[0m\u001b[0me\u001b[0m\u001b[0;34m)\u001b[0m\u001b[0;34m(\u001b[0m\u001b[0mnode_def\u001b[0m\u001b[0;34m,\u001b[0m \u001b[0mop\u001b[0m\u001b[0;34m,\u001b[0m \u001b[0mmessage\u001b[0m\u001b[0;34m)\u001b[0m\u001b[0;34m\u001b[0m\u001b[0m\n\u001b[0m\u001b[1;32m    986\u001b[0m \u001b[0;34m\u001b[0m\u001b[0m\n\u001b[1;32m    987\u001b[0m   \u001b[0;32mdef\u001b[0m \u001b[0m_extend_graph\u001b[0m\u001b[0;34m(\u001b[0m\u001b[0mself\u001b[0m\u001b[0;34m)\u001b[0m\u001b[0;34m:\u001b[0m\u001b[0;34m\u001b[0m\u001b[0m\n",
      "\u001b[0;31mInvalidArgumentError\u001b[0m: Self Adjoint Eigen decomposition was not successful. The input might not be valid.\n\t [[Node: SelfAdjointEigV2_22 = SelfAdjointEigV2[T=DT_DOUBLE, _gradient_op_type=\"aj\", compute_v=true, _device=\"/job:localhost/replica:0/task:0/cpu:0\"](add_22)]]\nCaused by op u'SelfAdjointEigV2_22', defined at:\n  File \"/Users/xiangli/anaconda/lib/python2.7/runpy.py\", line 162, in _run_module_as_main\n    \"__main__\", fname, loader, pkg_name)\n  File \"/Users/xiangli/anaconda/lib/python2.7/runpy.py\", line 72, in _run_code\n    exec code in run_globals\n  File \"/Users/xiangli/anaconda/lib/python2.7/site-packages/ipykernel/__main__.py\", line 3, in <module>\n    app.launch_new_instance()\n  File \"/Users/xiangli/anaconda/lib/python2.7/site-packages/traitlets/config/application.py\", line 596, in launch_instance\n    app.start()\n  File \"/Users/xiangli/anaconda/lib/python2.7/site-packages/ipykernel/kernelapp.py\", line 442, in start\n    ioloop.IOLoop.instance().start()\n  File \"/Users/xiangli/anaconda/lib/python2.7/site-packages/zmq/eventloop/ioloop.py\", line 162, in start\n    super(ZMQIOLoop, self).start()\n  File \"/Users/xiangli/anaconda/lib/python2.7/site-packages/tornado/ioloop.py\", line 883, in start\n    handler_func(fd_obj, events)\n  File \"/Users/xiangli/anaconda/lib/python2.7/site-packages/tornado/stack_context.py\", line 275, in null_wrapper\n    return fn(*args, **kwargs)\n  File \"/Users/xiangli/anaconda/lib/python2.7/site-packages/zmq/eventloop/zmqstream.py\", line 440, in _handle_events\n    self._handle_recv()\n  File \"/Users/xiangli/anaconda/lib/python2.7/site-packages/zmq/eventloop/zmqstream.py\", line 472, in _handle_recv\n    self._run_callback(callback, msg)\n  File \"/Users/xiangli/anaconda/lib/python2.7/site-packages/zmq/eventloop/zmqstream.py\", line 414, in _run_callback\n    callback(*args, **kwargs)\n  File \"/Users/xiangli/anaconda/lib/python2.7/site-packages/tornado/stack_context.py\", line 275, in null_wrapper\n    return fn(*args, **kwargs)\n  File \"/Users/xiangli/anaconda/lib/python2.7/site-packages/ipykernel/kernelbase.py\", line 276, in dispatcher\n    return self.dispatch_shell(stream, msg)\n  File \"/Users/xiangli/anaconda/lib/python2.7/site-packages/ipykernel/kernelbase.py\", line 228, in dispatch_shell\n    handler(stream, idents, msg)\n  File \"/Users/xiangli/anaconda/lib/python2.7/site-packages/ipykernel/kernelbase.py\", line 391, in execute_request\n    user_expressions, allow_stdin)\n  File \"/Users/xiangli/anaconda/lib/python2.7/site-packages/ipykernel/ipkernel.py\", line 199, in do_execute\n    shell.run_cell(code, store_history=store_history, silent=silent)\n  File \"/Users/xiangli/anaconda/lib/python2.7/site-packages/IPython/core/interactiveshell.py\", line 2723, in run_cell\n    interactivity=interactivity, compiler=compiler, result=result)\n  File \"/Users/xiangli/anaconda/lib/python2.7/site-packages/IPython/core/interactiveshell.py\", line 2825, in run_ast_nodes\n    if self.run_code(code, result):\n  File \"/Users/xiangli/anaconda/lib/python2.7/site-packages/IPython/core/interactiveshell.py\", line 2885, in run_code\n    exec(code_obj, self.user_global_ns, self.user_ns)\n  File \"<ipython-input-331-f519912c7c35>\", line 28, in <module>\n    eigenval, eigenvec = tf.self_adjoint_eig(Bethe_Hesse_neg)\n  File \"/Users/xiangli/anaconda/lib/python2.7/site-packages/tensorflow/python/ops/linalg_ops.py\", line 161, in self_adjoint_eig\n    e, v = gen_linalg_ops._self_adjoint_eig_v2(tensor, compute_v=True, name=name)\n  File \"/Users/xiangli/anaconda/lib/python2.7/site-packages/tensorflow/python/ops/gen_linalg_ops.py\", line 519, in _self_adjoint_eig_v2\n    compute_v=compute_v, name=name)\n  File \"/Users/xiangli/anaconda/lib/python2.7/site-packages/tensorflow/python/framework/op_def_library.py\", line 749, in apply_op\n    op_def=op_def)\n  File \"/Users/xiangli/anaconda/lib/python2.7/site-packages/tensorflow/python/framework/ops.py\", line 2380, in create_op\n    original_op=self._default_original_op, op_def=op_def)\n  File \"/Users/xiangli/anaconda/lib/python2.7/site-packages/tensorflow/python/framework/ops.py\", line 1298, in __init__\n    self._traceback = _extract_stack()\n"
     ]
    }
   ],
   "source": [
    "communities = 2\n",
    "group_size=10\n",
    "data = [np.asarray(balanced_stochastic_blockmodel(communities=communities, groupsize=group_size, p_in=0.5, p_out=0.1)).astype(np.float64) for i in range(1000)]\n",
    "\n",
    "\n",
    "\n",
    "\n",
    "dim_graph=communities*group_size\n",
    "\n",
    "Adj = tf.placeholder(tf.float64)\n",
    "Adj = tf.cast(Adj, tf.float64)\n",
    "\n",
    "Diag = tf.diag(tf.reduce_sum(Adj,0))\n",
    "Diag = tf.cast(Diag, tf.float64)\n",
    "\n",
    "average_degree_root = tf.sqrt(tf.reduce_sum(Adj)/dim_graph)\n",
    "\n",
    "#r =  tf.Variable(tf.constant(2.1), dtype = tf.float64)\n",
    "r = tf.Variable(tf.truncated_normal(shape=[1], mean=2.0, stddev=0.05, dtype=tf.float64,seed=None, name=None))\n",
    "\n",
    "Bethe_Hesse_neg = (r*r-1)*tf.diag(tf.ones(shape=[dim_graph], dtype=tf.float64))-tf.mul(r, Adj)+Diag \n",
    "\n",
    "\n",
    "with tf.Session() as sess:\n",
    "    g = tf.get_default_graph()\n",
    "    with g.gradient_override_map({'SelfAdjointEigV2': 'aj'}):\n",
    "\n",
    "        eigenval, eigenvec = tf.self_adjoint_eig(Bethe_Hesse_neg)\n",
    "\n",
    "        true_assignment_a = tf.concat(0, [tf.zeros([group_size], dtype=tf.float64),\n",
    "                                      tf.ones([group_size], dtype=tf.float64)])\n",
    "        true_assignment_b = tf.concat(0, [tf.ones([group_size], dtype=tf.float64),\n",
    "                                      tf.zeros([group_size], dtype=tf.float64)])\n",
    "\n",
    "        y_a = tf.pack([true_assignment_a, true_assignment_b]) \n",
    "        y_b = tf.pack([true_assignment_b, true_assignment_a]) \n",
    "\n",
    "\n",
    "        eigenvec_proj = tf.slice(eigenvec, [0,0], [dim_graph, 2])\n",
    "\n",
    "\n",
    "        #center = # tf.Variable(tf.slice(tf.random_shuffle(eigenvec_proj),[0,0],[2,-1]))\n",
    "        center = tf.Variable(tf.random_normal(shape=[2,2],\n",
    "                                       mean=0.0, stddev=0.2, dtype=tf.float64,seed=None, name=None))\n",
    "\n",
    "        expanded_vectors = tf.expand_dims(eigenvec_proj, 0)\n",
    "        expanded_centers = tf.expand_dims(center, 1)\n",
    "\n",
    "        distances = tf.reduce_sum(tf.square(tf.sub(expanded_vectors, expanded_centers)), 2)\n",
    "\n",
    "        hard_assignment = tf.argmin(distances, 0)\n",
    "        new_centers = tf.concat(0, [tf.reduce_mean(tf.gather(eigenvec_proj,\n",
    "                                                     tf.reshape(tf.where(tf.equal(hard_assignment, c)),\n",
    "                                                                [1,-1])), reduction_indices=[1]) for c in xrange(communities)])\n",
    "\n",
    "#a = tf.slice(new_centers, [0,0], [1,2])\n",
    "#b = tf.slice(new_centers, [1,0], [1,2])\n",
    "        a = tf.shape(center)\n",
    "        b = tf.shape(new_centers)\n",
    "        update_centers = tf.assign(center, new_centers)\n",
    "\n",
    "\n",
    "        assignments = 1-tf.nn.softmax(tf.transpose(distances)) #this ensures that the smaller distances are actually the correct assignments as being far from the centers make it less likely it is in that cluster\n",
    "#warning, the above transform will definitely not work for more than 2 centers, so need to be more clever later...\n",
    "#like basically sum the other two entries and subtract, this will be the generalized algo.... \n",
    "\n",
    "      \n",
    "        loss_vec_a = y_a*tf.log(tf.transpose(assignments))\n",
    "        loss_vec_b = y_b*tf.log(tf.transpose(assignments))\n",
    "\n",
    "        loss = tf.minimum(-tf.reduce_sum(loss_vec_a), -tf.reduce_sum(loss_vec_b))\n",
    "\n",
    "\n",
    "#loss =  tf.minimum(tf.reduce_sum(tf.square(tf.sub(eigenvec, true_assignment_a))),tf.reduce_sum(tf.square(tf.sub(eigenvec, true_assignment_b))))\n",
    "\n",
    "\n",
    "        optimizer = tf.train.GradientDescentOptimizer(0.5)\n",
    "        train = optimizer.minimize(loss, var_list=[r])\n",
    "\n",
    "        eigenvec_grad = tf.gradients(eigenvec, r)\n",
    "        loss_grad = tf.gradients(loss, r)\n",
    "\n",
    "        init = tf.initialize_variables([r, center])\n",
    "\n",
    "        init_center = tf.initialize_variables([center])\n",
    "        sess.run(init)\n",
    "        for i in range(10):\n",
    "            sess.run([train], feed_dict = {Adj: data[i]})\n",
    "            if i%1 ==0:\n",
    "                print i\n",
    "                print sess.run([loss_grad, loss, hard_assignment, r], feed_dict = {Adj: data[i]})\n",
    "    \n",
    "#, distances, assignments,  loss_grad, eigenvec_grad, \n",
    "\n"
   ]
  },
  {
   "cell_type": "code",
   "execution_count": 304,
   "metadata": {
    "collapsed": true
   },
   "outputs": [],
   "source": [
    "\n",
    "tf.reset_default_graph()"
   ]
  },
  {
   "cell_type": "code",
   "execution_count": 327,
   "metadata": {
    "collapsed": false
   },
   "outputs": [],
   "source": [
    "\n",
    "def Bethe_Hessian_NN(communities, group_size, data):\n",
    "\n",
    "    dim_graph=communities*group_size\n",
    "\n",
    "    Adj = tf.placeholder(tf.float64)\n",
    "    Adj = tf.cast(Adj, tf.float64)\n",
    "\n",
    "    Diag = tf.diag(tf.reduce_sum(Adj,0))\n",
    "    Diag = tf.cast(Diag, tf.float64)\n",
    "\n",
    "    average_degree_root = tf.sqrt(tf.reduce_sum(Adj)/dim_graph)\n",
    "\n",
    "\n",
    "    r = tf.Variable(tf.truncated_normal(shape=[1], mean=2.0, stddev=0.05, dtype=tf.float64,seed=None, name=None))\n",
    "\n",
    "    Bethe_Hesse_neg = (r*r-1)*tf.diag(tf.ones(shape=[dim_graph], dtype=tf.float64))-tf.mul(r, Adj)+Diag \n",
    "\n",
    "    eigenval, eigenvec = tf.self_adjoint_eig(Bethe_Hesse_neg)\n",
    "\n",
    "    true_assignment_a = tf.concat(0, [tf.zeros([group_size], dtype=tf.float64),\n",
    "                                      tf.ones([group_size], dtype=tf.float64)])\n",
    "    true_assignment_b = tf.concat(0, [tf.ones([group_size], dtype=tf.float64),\n",
    "                                      tf.zeros([group_size], dtype=tf.float64)])\n",
    "\n",
    "    y_a = tf.pack([true_assignment_a, true_assignment_b]) \n",
    "    y_b = tf.pack([true_assignment_b, true_assignment_a]) \n",
    "\n",
    "\n",
    "    eigenvec_proj = tf.slice(eigenvec, [0,0], [dim_graph, 2])\n",
    "\n",
    "    \n",
    "    #center = tf.Variable(tf.slice(tf.random_shuffle(eigenvec_proj),[0,0],[communities,-1]))\n",
    "    \n",
    "    center = tf.Variable(tf.random_normal(shape=[2,2],\n",
    "                                       mean=0.0, stddev=3.0, dtype=tf.float64,seed=None, name=None))\n",
    "\n",
    "    expanded_vectors = tf.expand_dims(eigenvec_proj, 0)\n",
    "    expanded_centers = tf.expand_dims(center, 1)\n",
    "\n",
    "    distances = tf.reduce_sum(tf.square(tf.sub(expanded_vectors, expanded_centers)), 2)\n",
    "\n",
    "    hard_assignment = tf.argmin(distances, 0)\n",
    "    new_centers = tf.concat(0, [tf.reduce_mean(tf.gather(eigenvec_proj,\n",
    "                                                     tf.reshape(tf.where(tf.equal(hard_assignment, c)),\n",
    "                                                                [1,-1])), reduction_indices=[1]) for c in xrange(communities)])\n",
    "\n",
    "    update_centers = tf.assign(center, new_centers)\n",
    "\n",
    "\n",
    "    assignments = 1-tf.nn.softmax(tf.transpose(distances)) \n",
    "\n",
    "    loss_vec_a = y_a*tf.log(tf.transpose(assignments))\n",
    "    loss_vec_b = y_b*tf.log(tf.transpose(assignments))\n",
    "\n",
    "    loss = tf.minimum(-tf.reduce_sum(loss_vec_a), -tf.reduce_sum(loss_vec_b))\n",
    "\n",
    "\n",
    "    optimizer = tf.train.GradientDescentOptimizer(0.5)\n",
    "    train = optimizer.minimize(loss, var_list=[r])\n",
    "\n",
    "    eigenvec_grad = tf.gradients(eigenvec, r)\n",
    "    loss_grad = tf.gradients(loss, r)\n",
    "\n",
    "    init = tf.initialize_variables([r, center])\n",
    "\n",
    "    init_center = tf.initialize_variables([center])\n",
    "\n",
    "    with tf.Session() as sess:\n",
    "        sess.run(init)\n",
    "        for i in range(100):\n",
    "            sess.run([train, init_center], feed_dict = {Adj: data[i]})\n",
    "            if i%2 ==0:\n",
    "                \n",
    "                print i\n",
    "                print sess.run([loss, loss_grad, eigenvec_grad, hard_assignment, r, average_degree_root, new_centers], feed_dict = {Adj: data[i]})\n",
    "    \n",
    "#, distances, assignments,  loss_grad, eigenvec_grad, \n",
    "\n"
   ]
  },
  {
   "cell_type": "code",
   "execution_count": 330,
   "metadata": {
    "collapsed": false
   },
   "outputs": [
    {
     "name": "stdout",
     "output_type": "stream",
     "text": [
      "0\n",
      "[80.457673646786816, [array([-0.11737862])], [array([ 1.6372236])], array([1, 1, 1, 1, 1, 1, 1, 1, 1, 1, 1, 1, 1, 1, 1, 1, 1, 1, 1, 1]), array([-4.12233461]), 2.0248456731316584, array([[        nan,         nan],\n",
      "       [ 0.00176493, -0.01305282]])]\n",
      "2\n",
      "[14.784305596478543, [array([ 0.00724482])], [array([-0.00186979])], array([1, 1, 1, 1, 1, 1, 1, 1, 1, 1, 1, 1, 1, 1, 1, 1, 1, 1, 1, 1]), array([-3.98864915]), 1.8439088914585775, array([[        nan,         nan],\n",
      "       [ 0.01264155, -0.01060154]])]\n"
     ]
    },
    {
     "ename": "InvalidArgumentError",
     "evalue": "Self Adjoint Eigen decomposition was not successful. The input might not be valid.\n\t [[Node: SelfAdjointEigV2_21 = SelfAdjointEigV2[T=DT_DOUBLE, compute_v=true, _device=\"/job:localhost/replica:0/task:0/cpu:0\"](add_21)]]\nCaused by op u'SelfAdjointEigV2_21', defined at:\n  File \"/Users/xiangli/anaconda/lib/python2.7/runpy.py\", line 162, in _run_module_as_main\n    \"__main__\", fname, loader, pkg_name)\n  File \"/Users/xiangli/anaconda/lib/python2.7/runpy.py\", line 72, in _run_code\n    exec code in run_globals\n  File \"/Users/xiangli/anaconda/lib/python2.7/site-packages/ipykernel/__main__.py\", line 3, in <module>\n    app.launch_new_instance()\n  File \"/Users/xiangli/anaconda/lib/python2.7/site-packages/traitlets/config/application.py\", line 596, in launch_instance\n    app.start()\n  File \"/Users/xiangli/anaconda/lib/python2.7/site-packages/ipykernel/kernelapp.py\", line 442, in start\n    ioloop.IOLoop.instance().start()\n  File \"/Users/xiangli/anaconda/lib/python2.7/site-packages/zmq/eventloop/ioloop.py\", line 162, in start\n    super(ZMQIOLoop, self).start()\n  File \"/Users/xiangli/anaconda/lib/python2.7/site-packages/tornado/ioloop.py\", line 883, in start\n    handler_func(fd_obj, events)\n  File \"/Users/xiangli/anaconda/lib/python2.7/site-packages/tornado/stack_context.py\", line 275, in null_wrapper\n    return fn(*args, **kwargs)\n  File \"/Users/xiangli/anaconda/lib/python2.7/site-packages/zmq/eventloop/zmqstream.py\", line 440, in _handle_events\n    self._handle_recv()\n  File \"/Users/xiangli/anaconda/lib/python2.7/site-packages/zmq/eventloop/zmqstream.py\", line 472, in _handle_recv\n    self._run_callback(callback, msg)\n  File \"/Users/xiangli/anaconda/lib/python2.7/site-packages/zmq/eventloop/zmqstream.py\", line 414, in _run_callback\n    callback(*args, **kwargs)\n  File \"/Users/xiangli/anaconda/lib/python2.7/site-packages/tornado/stack_context.py\", line 275, in null_wrapper\n    return fn(*args, **kwargs)\n  File \"/Users/xiangli/anaconda/lib/python2.7/site-packages/ipykernel/kernelbase.py\", line 276, in dispatcher\n    return self.dispatch_shell(stream, msg)\n  File \"/Users/xiangli/anaconda/lib/python2.7/site-packages/ipykernel/kernelbase.py\", line 228, in dispatch_shell\n    handler(stream, idents, msg)\n  File \"/Users/xiangli/anaconda/lib/python2.7/site-packages/ipykernel/kernelbase.py\", line 391, in execute_request\n    user_expressions, allow_stdin)\n  File \"/Users/xiangli/anaconda/lib/python2.7/site-packages/ipykernel/ipkernel.py\", line 199, in do_execute\n    shell.run_cell(code, store_history=store_history, silent=silent)\n  File \"/Users/xiangli/anaconda/lib/python2.7/site-packages/IPython/core/interactiveshell.py\", line 2723, in run_cell\n    interactivity=interactivity, compiler=compiler, result=result)\n  File \"/Users/xiangli/anaconda/lib/python2.7/site-packages/IPython/core/interactiveshell.py\", line 2831, in run_ast_nodes\n    if self.run_code(code, result):\n  File \"/Users/xiangli/anaconda/lib/python2.7/site-packages/IPython/core/interactiveshell.py\", line 2885, in run_code\n    exec(code_obj, self.user_global_ns, self.user_ns)\n  File \"<ipython-input-330-cad378589fe7>\", line 6, in <module>\n    Bethe_Hessian_NN(2, 10, data)\n  File \"<ipython-input-327-4394bf468690>\", line 19, in Bethe_Hessian_NN\n    eigenval, eigenvec = tf.self_adjoint_eig(Bethe_Hesse_neg)\n  File \"/Users/xiangli/anaconda/lib/python2.7/site-packages/tensorflow/python/ops/linalg_ops.py\", line 161, in self_adjoint_eig\n    e, v = gen_linalg_ops._self_adjoint_eig_v2(tensor, compute_v=True, name=name)\n  File \"/Users/xiangli/anaconda/lib/python2.7/site-packages/tensorflow/python/ops/gen_linalg_ops.py\", line 519, in _self_adjoint_eig_v2\n    compute_v=compute_v, name=name)\n  File \"/Users/xiangli/anaconda/lib/python2.7/site-packages/tensorflow/python/framework/op_def_library.py\", line 749, in apply_op\n    op_def=op_def)\n  File \"/Users/xiangli/anaconda/lib/python2.7/site-packages/tensorflow/python/framework/ops.py\", line 2380, in create_op\n    original_op=self._default_original_op, op_def=op_def)\n  File \"/Users/xiangli/anaconda/lib/python2.7/site-packages/tensorflow/python/framework/ops.py\", line 1298, in __init__\n    self._traceback = _extract_stack()\n",
     "output_type": "error",
     "traceback": [
      "\u001b[0;31m---------------------------------------------------------------------------\u001b[0m",
      "\u001b[0;31mInvalidArgumentError\u001b[0m                      Traceback (most recent call last)",
      "\u001b[0;32m<ipython-input-330-cad378589fe7>\u001b[0m in \u001b[0;36m<module>\u001b[0;34m()\u001b[0m\n\u001b[1;32m      4\u001b[0m \u001b[0;34m\u001b[0m\u001b[0m\n\u001b[1;32m      5\u001b[0m \u001b[0;34m\u001b[0m\u001b[0m\n\u001b[0;32m----> 6\u001b[0;31m \u001b[0mBethe_Hessian_NN\u001b[0m\u001b[0;34m(\u001b[0m\u001b[0;36m2\u001b[0m\u001b[0;34m,\u001b[0m \u001b[0;36m10\u001b[0m\u001b[0;34m,\u001b[0m \u001b[0mdata\u001b[0m\u001b[0;34m)\u001b[0m\u001b[0;34m\u001b[0m\u001b[0m\n\u001b[0m",
      "\u001b[0;32m<ipython-input-327-4394bf468690>\u001b[0m in \u001b[0;36mBethe_Hessian_NN\u001b[0;34m(communities, group_size, data)\u001b[0m\n\u001b[1;32m     70\u001b[0m         \u001b[0msess\u001b[0m\u001b[0;34m.\u001b[0m\u001b[0mrun\u001b[0m\u001b[0;34m(\u001b[0m\u001b[0minit\u001b[0m\u001b[0;34m)\u001b[0m\u001b[0;34m\u001b[0m\u001b[0m\n\u001b[1;32m     71\u001b[0m         \u001b[0;32mfor\u001b[0m \u001b[0mi\u001b[0m \u001b[0;32min\u001b[0m \u001b[0mrange\u001b[0m\u001b[0;34m(\u001b[0m\u001b[0;36m100\u001b[0m\u001b[0;34m)\u001b[0m\u001b[0;34m:\u001b[0m\u001b[0;34m\u001b[0m\u001b[0m\n\u001b[0;32m---> 72\u001b[0;31m             \u001b[0msess\u001b[0m\u001b[0;34m.\u001b[0m\u001b[0mrun\u001b[0m\u001b[0;34m(\u001b[0m\u001b[0;34m[\u001b[0m\u001b[0mtrain\u001b[0m\u001b[0;34m,\u001b[0m \u001b[0minit_center\u001b[0m\u001b[0;34m]\u001b[0m\u001b[0;34m,\u001b[0m \u001b[0mfeed_dict\u001b[0m \u001b[0;34m=\u001b[0m \u001b[0;34m{\u001b[0m\u001b[0mAdj\u001b[0m\u001b[0;34m:\u001b[0m \u001b[0mdata\u001b[0m\u001b[0;34m[\u001b[0m\u001b[0mi\u001b[0m\u001b[0;34m]\u001b[0m\u001b[0;34m}\u001b[0m\u001b[0;34m)\u001b[0m\u001b[0;34m\u001b[0m\u001b[0m\n\u001b[0m\u001b[1;32m     73\u001b[0m             \u001b[0;32mif\u001b[0m \u001b[0mi\u001b[0m\u001b[0;34m%\u001b[0m\u001b[0;36m2\u001b[0m \u001b[0;34m==\u001b[0m\u001b[0;36m0\u001b[0m\u001b[0;34m:\u001b[0m\u001b[0;34m\u001b[0m\u001b[0m\n\u001b[1;32m     74\u001b[0m \u001b[0;34m\u001b[0m\u001b[0m\n",
      "\u001b[0;32m/Users/xiangli/anaconda/lib/python2.7/site-packages/tensorflow/python/client/session.pyc\u001b[0m in \u001b[0;36mrun\u001b[0;34m(self, fetches, feed_dict, options, run_metadata)\u001b[0m\n\u001b[1;32m    715\u001b[0m     \u001b[0;32mtry\u001b[0m\u001b[0;34m:\u001b[0m\u001b[0;34m\u001b[0m\u001b[0m\n\u001b[1;32m    716\u001b[0m       result = self._run(None, fetches, feed_dict, options_ptr,\n\u001b[0;32m--> 717\u001b[0;31m                          run_metadata_ptr)\n\u001b[0m\u001b[1;32m    718\u001b[0m       \u001b[0;32mif\u001b[0m \u001b[0mrun_metadata\u001b[0m\u001b[0;34m:\u001b[0m\u001b[0;34m\u001b[0m\u001b[0m\n\u001b[1;32m    719\u001b[0m         \u001b[0mproto_data\u001b[0m \u001b[0;34m=\u001b[0m \u001b[0mtf_session\u001b[0m\u001b[0;34m.\u001b[0m\u001b[0mTF_GetBuffer\u001b[0m\u001b[0;34m(\u001b[0m\u001b[0mrun_metadata_ptr\u001b[0m\u001b[0;34m)\u001b[0m\u001b[0;34m\u001b[0m\u001b[0m\n",
      "\u001b[0;32m/Users/xiangli/anaconda/lib/python2.7/site-packages/tensorflow/python/client/session.pyc\u001b[0m in \u001b[0;36m_run\u001b[0;34m(self, handle, fetches, feed_dict, options, run_metadata)\u001b[0m\n\u001b[1;32m    913\u001b[0m     \u001b[0;32mif\u001b[0m \u001b[0mfinal_fetches\u001b[0m \u001b[0;32mor\u001b[0m \u001b[0mfinal_targets\u001b[0m\u001b[0;34m:\u001b[0m\u001b[0;34m\u001b[0m\u001b[0m\n\u001b[1;32m    914\u001b[0m       results = self._do_run(handle, final_targets, final_fetches,\n\u001b[0;32m--> 915\u001b[0;31m                              feed_dict_string, options, run_metadata)\n\u001b[0m\u001b[1;32m    916\u001b[0m     \u001b[0;32melse\u001b[0m\u001b[0;34m:\u001b[0m\u001b[0;34m\u001b[0m\u001b[0m\n\u001b[1;32m    917\u001b[0m       \u001b[0mresults\u001b[0m \u001b[0;34m=\u001b[0m \u001b[0;34m[\u001b[0m\u001b[0;34m]\u001b[0m\u001b[0;34m\u001b[0m\u001b[0m\n",
      "\u001b[0;32m/Users/xiangli/anaconda/lib/python2.7/site-packages/tensorflow/python/client/session.pyc\u001b[0m in \u001b[0;36m_do_run\u001b[0;34m(self, handle, target_list, fetch_list, feed_dict, options, run_metadata)\u001b[0m\n\u001b[1;32m    963\u001b[0m     \u001b[0;32mif\u001b[0m \u001b[0mhandle\u001b[0m \u001b[0;32mis\u001b[0m \u001b[0mNone\u001b[0m\u001b[0;34m:\u001b[0m\u001b[0;34m\u001b[0m\u001b[0m\n\u001b[1;32m    964\u001b[0m       return self._do_call(_run_fn, self._session, feed_dict, fetch_list,\n\u001b[0;32m--> 965\u001b[0;31m                            target_list, options, run_metadata)\n\u001b[0m\u001b[1;32m    966\u001b[0m     \u001b[0;32melse\u001b[0m\u001b[0;34m:\u001b[0m\u001b[0;34m\u001b[0m\u001b[0m\n\u001b[1;32m    967\u001b[0m       return self._do_call(_prun_fn, self._session, handle, feed_dict,\n",
      "\u001b[0;32m/Users/xiangli/anaconda/lib/python2.7/site-packages/tensorflow/python/client/session.pyc\u001b[0m in \u001b[0;36m_do_call\u001b[0;34m(self, fn, *args)\u001b[0m\n\u001b[1;32m    983\u001b[0m         \u001b[0;32mexcept\u001b[0m \u001b[0mKeyError\u001b[0m\u001b[0;34m:\u001b[0m\u001b[0;34m\u001b[0m\u001b[0m\n\u001b[1;32m    984\u001b[0m           \u001b[0;32mpass\u001b[0m\u001b[0;34m\u001b[0m\u001b[0m\n\u001b[0;32m--> 985\u001b[0;31m       \u001b[0;32mraise\u001b[0m \u001b[0mtype\u001b[0m\u001b[0;34m(\u001b[0m\u001b[0me\u001b[0m\u001b[0;34m)\u001b[0m\u001b[0;34m(\u001b[0m\u001b[0mnode_def\u001b[0m\u001b[0;34m,\u001b[0m \u001b[0mop\u001b[0m\u001b[0;34m,\u001b[0m \u001b[0mmessage\u001b[0m\u001b[0;34m)\u001b[0m\u001b[0;34m\u001b[0m\u001b[0m\n\u001b[0m\u001b[1;32m    986\u001b[0m \u001b[0;34m\u001b[0m\u001b[0m\n\u001b[1;32m    987\u001b[0m   \u001b[0;32mdef\u001b[0m \u001b[0m_extend_graph\u001b[0m\u001b[0;34m(\u001b[0m\u001b[0mself\u001b[0m\u001b[0;34m)\u001b[0m\u001b[0;34m:\u001b[0m\u001b[0;34m\u001b[0m\u001b[0m\n",
      "\u001b[0;31mInvalidArgumentError\u001b[0m: Self Adjoint Eigen decomposition was not successful. The input might not be valid.\n\t [[Node: SelfAdjointEigV2_21 = SelfAdjointEigV2[T=DT_DOUBLE, compute_v=true, _device=\"/job:localhost/replica:0/task:0/cpu:0\"](add_21)]]\nCaused by op u'SelfAdjointEigV2_21', defined at:\n  File \"/Users/xiangli/anaconda/lib/python2.7/runpy.py\", line 162, in _run_module_as_main\n    \"__main__\", fname, loader, pkg_name)\n  File \"/Users/xiangli/anaconda/lib/python2.7/runpy.py\", line 72, in _run_code\n    exec code in run_globals\n  File \"/Users/xiangli/anaconda/lib/python2.7/site-packages/ipykernel/__main__.py\", line 3, in <module>\n    app.launch_new_instance()\n  File \"/Users/xiangli/anaconda/lib/python2.7/site-packages/traitlets/config/application.py\", line 596, in launch_instance\n    app.start()\n  File \"/Users/xiangli/anaconda/lib/python2.7/site-packages/ipykernel/kernelapp.py\", line 442, in start\n    ioloop.IOLoop.instance().start()\n  File \"/Users/xiangli/anaconda/lib/python2.7/site-packages/zmq/eventloop/ioloop.py\", line 162, in start\n    super(ZMQIOLoop, self).start()\n  File \"/Users/xiangli/anaconda/lib/python2.7/site-packages/tornado/ioloop.py\", line 883, in start\n    handler_func(fd_obj, events)\n  File \"/Users/xiangli/anaconda/lib/python2.7/site-packages/tornado/stack_context.py\", line 275, in null_wrapper\n    return fn(*args, **kwargs)\n  File \"/Users/xiangli/anaconda/lib/python2.7/site-packages/zmq/eventloop/zmqstream.py\", line 440, in _handle_events\n    self._handle_recv()\n  File \"/Users/xiangli/anaconda/lib/python2.7/site-packages/zmq/eventloop/zmqstream.py\", line 472, in _handle_recv\n    self._run_callback(callback, msg)\n  File \"/Users/xiangli/anaconda/lib/python2.7/site-packages/zmq/eventloop/zmqstream.py\", line 414, in _run_callback\n    callback(*args, **kwargs)\n  File \"/Users/xiangli/anaconda/lib/python2.7/site-packages/tornado/stack_context.py\", line 275, in null_wrapper\n    return fn(*args, **kwargs)\n  File \"/Users/xiangli/anaconda/lib/python2.7/site-packages/ipykernel/kernelbase.py\", line 276, in dispatcher\n    return self.dispatch_shell(stream, msg)\n  File \"/Users/xiangli/anaconda/lib/python2.7/site-packages/ipykernel/kernelbase.py\", line 228, in dispatch_shell\n    handler(stream, idents, msg)\n  File \"/Users/xiangli/anaconda/lib/python2.7/site-packages/ipykernel/kernelbase.py\", line 391, in execute_request\n    user_expressions, allow_stdin)\n  File \"/Users/xiangli/anaconda/lib/python2.7/site-packages/ipykernel/ipkernel.py\", line 199, in do_execute\n    shell.run_cell(code, store_history=store_history, silent=silent)\n  File \"/Users/xiangli/anaconda/lib/python2.7/site-packages/IPython/core/interactiveshell.py\", line 2723, in run_cell\n    interactivity=interactivity, compiler=compiler, result=result)\n  File \"/Users/xiangli/anaconda/lib/python2.7/site-packages/IPython/core/interactiveshell.py\", line 2831, in run_ast_nodes\n    if self.run_code(code, result):\n  File \"/Users/xiangli/anaconda/lib/python2.7/site-packages/IPython/core/interactiveshell.py\", line 2885, in run_code\n    exec(code_obj, self.user_global_ns, self.user_ns)\n  File \"<ipython-input-330-cad378589fe7>\", line 6, in <module>\n    Bethe_Hessian_NN(2, 10, data)\n  File \"<ipython-input-327-4394bf468690>\", line 19, in Bethe_Hessian_NN\n    eigenval, eigenvec = tf.self_adjoint_eig(Bethe_Hesse_neg)\n  File \"/Users/xiangli/anaconda/lib/python2.7/site-packages/tensorflow/python/ops/linalg_ops.py\", line 161, in self_adjoint_eig\n    e, v = gen_linalg_ops._self_adjoint_eig_v2(tensor, compute_v=True, name=name)\n  File \"/Users/xiangli/anaconda/lib/python2.7/site-packages/tensorflow/python/ops/gen_linalg_ops.py\", line 519, in _self_adjoint_eig_v2\n    compute_v=compute_v, name=name)\n  File \"/Users/xiangli/anaconda/lib/python2.7/site-packages/tensorflow/python/framework/op_def_library.py\", line 749, in apply_op\n    op_def=op_def)\n  File \"/Users/xiangli/anaconda/lib/python2.7/site-packages/tensorflow/python/framework/ops.py\", line 2380, in create_op\n    original_op=self._default_original_op, op_def=op_def)\n  File \"/Users/xiangli/anaconda/lib/python2.7/site-packages/tensorflow/python/framework/ops.py\", line 1298, in __init__\n    self._traceback = _extract_stack()\n"
     ]
    }
   ],
   "source": [
    "communities = 2\n",
    "group_size=10\n",
    "data = [np.asarray(balanced_stochastic_blockmodel(communities=communities, groupsize=group_size, p_in=0.4, p_out=0.1)).astype(np.float64) for i in range(1000)]\n",
    "\n",
    "\n",
    "Bethe_Hessian_NN(2, 10, data)"
   ]
  },
  {
   "cell_type": "code",
   "execution_count": null,
   "metadata": {
    "collapsed": true
   },
   "outputs": [],
   "source": []
  },
  {
   "cell_type": "code",
   "execution_count": 245,
   "metadata": {
    "collapsed": false
   },
   "outputs": [],
   "source": [
    "\n",
    "def EigenDecomp_r_diff(iterations, communities, group_size, data, r1, r2):\n",
    "\n",
    "    dim_graph=communities*group_size\n",
    "\n",
    "    Adj = tf.placeholder(tf.float64)\n",
    "    Adj = tf.cast(Adj, tf.float64)\n",
    "\n",
    "    Diag = tf.diag(tf.reduce_sum(Adj,0))\n",
    "    Diag = tf.cast(Diag, tf.float64)\n",
    "\n",
    "    average_degree_root = tf.sqrt(tf.reduce_sum(Adj)/dim_graph)\n",
    "    \n",
    "    r1 = tf.cast(r1, dtype=tf.float64)\n",
    "    r2 = tf.cast(r2, dtype=tf.float64)\n",
    "    \n",
    "    def BH(r):\n",
    "        return (r*r-1)*tf.diag(tf.ones(shape=[dim_graph], dtype=tf.float64))-tf.mul(r, Adj)+Diag \n",
    "\n",
    "\n",
    "\n",
    "    BH1 = BH(r1)\n",
    "    BH2 = BH(r2)\n",
    "\n",
    "    eigenval1, eigenvec1 = tf.self_adjoint_eig(BH1)\n",
    "    eigenval2, eigenvec2 = tf.self_adjoint_eig(BH2)\n",
    "    \n",
    "    e1vec_norm = tf.sqrt(tf.reduce_sum(tf.matmul(eigenvec1, eigenvec1)))\n",
    "    e2vec_norm = tf.sqrt(tf.reduce_sum(tf.matmul(eigenvec2, eigenvec2)))\n",
    "    \n",
    "    operator_diff = tf.reduce_sum(tf.matmul(eigenvec1, eigenvec2))/(e1vec_norm*e2vec_norm)\n",
    "    \n",
    "    e1_norm = tf.sqrt(tf.reduce_sum(eigenval1*eigenval1))\n",
    "    e2_norm = tf.sqrt(tf.reduce_sum(eigenval2*eigenval2))\n",
    "    eigenval_dot = tf.reduce_sum(eigenval1*eigenval2)/(e1_norm*e2_norm)\n",
    "\n",
    "    with tf.Session() as sess:\n",
    "        for i in range(iterations):\n",
    "            print i\n",
    "            print sess.run([average_degree_root, eigenval_dot, operator_diff], feed_dict = {Adj: data[i]})\n",
    "\n",
    "\n",
    "def EigenDecomp_r_diff_proj(iterations, communities, group_size, data, r1, r2, project_dim):\n",
    "\n",
    "    dim_graph=communities*group_size\n",
    "\n",
    "    Adj = tf.placeholder(tf.float64)\n",
    "    Adj = tf.cast(Adj, tf.float64)\n",
    "\n",
    "    Diag = tf.diag(tf.reduce_sum(Adj,0))\n",
    "    Diag = tf.cast(Diag, tf.float64)\n",
    "\n",
    "    average_degree_root = tf.sqrt(tf.reduce_sum(Adj)/dim_graph)\n",
    "    \n",
    "    r1 = tf.cast(r1, dtype=tf.float64)\n",
    "    r2 = tf.cast(r2, dtype=tf.float64)\n",
    "    \n",
    "    def BH(r):\n",
    "        return (r*r-1)*tf.diag(tf.ones(shape=[dim_graph], dtype=tf.float64))-tf.mul(r, Adj)+Diag \n",
    "\n",
    "\n",
    "    BH1 = BH(r1)\n",
    "    BH2 = BH(r2)\n",
    "\n",
    "    eigenval1, eigenvec1 = tf.self_adjoint_eig(BH1)\n",
    "    eigenval2, eigenvec2 = tf.self_adjoint_eig(BH2)\n",
    "    \n",
    "    eigenvec1 = tf.slice(eigenvec1, [0,0], [dim_graph, project_dim])\n",
    "    eigenvec2 = tf.slice(eigenvec2, [0,0], [dim_graph, project_dim])\n",
    "    \n",
    "    e1vec_norm = tf.sqrt(tf.reduce_sum(tf.matmul(eigenvec1, tf.transpose(eigenvec1))))\n",
    "    e2vec_norm = tf.sqrt(tf.reduce_sum(tf.matmul(eigenvec2, tf.transpose(eigenvec2))))\n",
    "    \n",
    "    operator_diff = tf.reduce_sum(tf.matmul(eigenvec1, tf.transpose(eigenvec2)))/(e1vec_norm*e2vec_norm)\n",
    "    \n",
    "    e1_norm = tf.sqrt(tf.reduce_sum(eigenval1*eigenval1))\n",
    "    e2_norm = tf.sqrt(tf.reduce_sum(eigenval2*eigenval2))\n",
    "    eigenval_dot = tf.reduce_sum(eigenval1*eigenval2)/(e1_norm*e2_norm)\n",
    "\n",
    "    lst = []\n",
    "    \n",
    "    with tf.Session() as sess:\n",
    "        for i in range(iterations):\n",
    "            \n",
    "            lst.append(sess.run([average_degree_root, eigenval_dot, operator_diff], feed_dict = {Adj: data[i]}))\n",
    "    return np.asarray(lst)\n",
    "            \n",
    "  \n"
   ]
  },
  {
   "cell_type": "code",
   "execution_count": 221,
   "metadata": {
    "collapsed": false
   },
   "outputs": [
    {
     "name": "stdout",
     "output_type": "stream",
     "text": [
      "0\n",
      "[1.3416407864998738, 0.99950496573195446, nan]\n",
      "1\n",
      "[1.8973665961010275, 0.9995177687259964, 0.13649340617465697]\n",
      "2\n",
      "[1.4142135623730951, 0.99947153734202154, 0.16781677434272257]\n",
      "3\n",
      "[1.61245154965971, 0.99950109600895498, 0.98817899950159394]\n",
      "4\n",
      "[2.0976176963403033, 0.99956104225878661, -1.0718698711283243]\n",
      "5\n",
      "[1.7320508075688772, 0.99950507875216699, nan]\n",
      "6\n",
      "[1.5491933384829668, 0.99940355715928153, 1.3619421046282456]\n",
      "7\n",
      "[1.8439088914585775, 0.99952465280469971, 0.99584888351341805]\n",
      "8\n",
      "[1.8439088914585775, 0.999505363097972, nan]\n",
      "9\n",
      "[1.7888543819998317, 0.99950626465120362, 1.0354907929844397]\n",
      "10\n",
      "[1.7320508075688772, 0.99951686233267822, 2.535177781630642]\n",
      "11\n",
      "[1.9493588689617927, 0.99949034909303747, 1.0152560966467397]\n",
      "12\n",
      "[1.6733200530681511, 0.99947668796809253, 0.998021069428361]\n",
      "13\n",
      "[1.61245154965971, 0.99943534894450914, -2.7894082447146489]\n",
      "14\n",
      "[1.7888543819998317, 0.99950651837122184, nan]\n",
      "15\n",
      "[1.7320508075688772, 0.99950354426611931, nan]\n",
      "16\n",
      "[1.7888543819998317, 0.99948797990356342, nan]\n",
      "17\n",
      "[1.7320508075688772, 0.99946188077850018, nan]\n",
      "18\n",
      "[1.61245154965971, 0.99950169734363026, nan]\n",
      "19\n",
      "[1.61245154965971, 0.99949194562997623, nan]\n",
      "20\n",
      "[1.8439088914585775, 0.99949975287976667, 0.99469184261035204]\n",
      "21\n",
      "[2.0493901531919199, 0.99954994523454965, nan]\n",
      "22\n",
      "[1.8973665961010275, 0.99948743937667883, nan]\n",
      "23\n",
      "[1.7888543819998317, 0.9994682462593022, nan]\n",
      "24\n",
      "[2.0976176963403033, 0.99956525240802296, -0.25553153357810082]\n",
      "25\n",
      "[1.8973665961010275, 0.99952217632816043, 1.0088013441034733]\n",
      "26\n",
      "[1.61245154965971, 0.99949333446845023, 1.0099596747391155]\n",
      "27\n",
      "[1.61245154965971, 0.99950840559028531, nan]\n",
      "28\n",
      "[1.61245154965971, 0.99949245460752401, 0.98883654518489195]\n",
      "29\n",
      "[1.7320508075688772, 0.99947979849487323, -0.47500229756168083]\n",
      "30\n",
      "[2.0, 0.99952559804388685, 1.0673865163939151]\n",
      "31\n",
      "[1.4832396974191326, 0.99950520234593354, 0.99599327765068046]\n",
      "32\n",
      "[1.7320508075688772, 0.9994976636351528, nan]\n",
      "33\n",
      "[1.4832396974191326, 0.99947306808367564, nan]\n",
      "34\n",
      "[1.4832396974191326, 0.99946566753801014, nan]\n",
      "35\n",
      "[1.6733200530681511, 0.99944864304700165, 0.95794478532551597]\n",
      "36\n",
      "[1.5491933384829668, 0.99948240725202442, nan]\n",
      "37\n",
      "[1.7320508075688772, 0.99949793233156514, 1.6615944781115448]\n",
      "38\n",
      "[2.0, 0.99955592861769749, -1.3162291307620173]\n",
      "39\n",
      "[1.6733200530681511, 0.99947224240561916, nan]\n",
      "40\n",
      "[1.5491933384829668, 0.99949830044127008, 0.65487187913967737]\n",
      "41\n",
      "[1.9493588689617927, 0.99949863840007802, nan]\n",
      "42\n",
      "[1.6733200530681511, 0.99945001640633957, nan]\n",
      "43\n",
      "[1.61245154965971, 0.99948434322985258, nan]\n",
      "44\n",
      "[1.3416407864998738, 0.99948944310807386, 0.99652361335857265]\n",
      "45\n",
      "[1.8973665961010275, 0.99948677656147367, 1.0172705171817862]\n",
      "46\n",
      "[1.7888543819998317, 0.99949322041144606, 0.009040283080502233]\n",
      "47\n",
      "[1.61245154965971, 0.99947966929869181, nan]\n",
      "48\n",
      "[1.7888543819998317, 0.99948197412252693, 0.99479629111034984]\n",
      "49\n",
      "[1.61245154965971, 0.99949460333854756, 1.2313808802994586]\n",
      "50\n",
      "[1.61245154965971, 0.99950013398295445, 1.1317683508692846]\n",
      "51\n",
      "[1.7320508075688772, 0.99950320800984149, nan]\n",
      "52\n",
      "[1.7320508075688772, 0.99949823660366977, nan]\n",
      "53\n",
      "[1.7320508075688772, 0.99944971158740714, -0.14699678537431063]\n",
      "54\n",
      "[1.61245154965971, 0.99949255121393121, 1.0441283082324941]\n",
      "55\n",
      "[1.6733200530681511, 0.99949922041539263, 1.1769558757201708]\n",
      "56\n",
      "[1.4832396974191326, 0.99951316662524115, nan]\n",
      "57\n",
      "[1.6733200530681511, 0.99946342135320809, 0.97829156783332383]\n",
      "58\n",
      "[1.6733200530681511, 0.99949558215347478, 0.44186518861554569]\n",
      "59\n",
      "[1.8439088914585775, 0.99951950856319816, nan]\n",
      "60\n",
      "[1.6733200530681511, 0.99948742125238588, 0.74881650476351047]\n",
      "61\n",
      "[1.8973665961010275, 0.99949932504090921, 1.0118005167288742]\n",
      "62\n",
      "[2.0493901531919199, 0.99952908528447415, nan]\n",
      "63\n",
      "[1.9493588689617927, 0.99950589187491001, -0.75362295283984748]\n",
      "64\n",
      "[1.3416407864998738, 0.99950604254846609, nan]\n",
      "65\n",
      "[1.7888543819998317, 0.99950624463297189, -0.65417151978794075]\n",
      "66\n",
      "[1.7320508075688772, 0.99950930462244458, -0.90891705264355416]\n",
      "67\n",
      "[1.7888543819998317, 0.99950923223237165, 1.1068166182359067]\n",
      "68\n",
      "[1.7320508075688772, 0.99947853349802485, nan]\n",
      "69\n",
      "[1.5491933384829668, 0.99949998805024565, 1.0133373121344651]\n",
      "70\n",
      "[1.61245154965971, 0.99947883992393871, 1.0245774974429918]\n",
      "71\n",
      "[1.5491933384829668, 0.99945504472740498, nan]\n",
      "72\n",
      "[1.5491933384829668, 0.99949980061126764, nan]\n",
      "73\n",
      "[2.0, 0.99953137099921752, nan]\n",
      "74\n",
      "[1.7888543819998317, 0.99949960846427088, 1.0016810804105212]\n",
      "75\n",
      "[1.7320508075688772, 0.99944005842343986, 0.068534329041614619]\n",
      "76\n",
      "[1.8439088914585775, 0.9995301319956581, -0.57694342118284758]\n",
      "77\n",
      "[1.8973665961010275, 0.99951871593775587, nan]\n",
      "78\n",
      "[1.4832396974191326, 0.99944661568992188, nan]\n",
      "79\n",
      "[1.6733200530681511, 0.9995009683594519, nan]\n",
      "80\n",
      "[1.6733200530681511, 0.99946921048574755, -1.2751159956094318]\n",
      "81\n",
      "[1.4832396974191326, 0.99947132537215211, nan]\n",
      "82\n",
      "[1.7888543819998317, 0.99952505426927185, 0.56117702393643321]\n",
      "83\n",
      "[1.7320508075688772, 0.99947041626175037, -1.5558459182855768]\n",
      "84\n",
      "[1.8973665961010275, 0.99952270968637302, 1.0024085629876442]\n",
      "85\n",
      "[2.0, 0.99955085155175505, 1.0636237202781933]\n",
      "86\n",
      "[1.8439088914585775, 0.99952425339836304, -1.0934346626786828]\n",
      "87\n",
      "[1.7888543819998317, 0.99949458337587538, nan]\n",
      "88\n",
      "[2.0, 0.99953603642037125, nan]\n",
      "89\n",
      "[1.7320508075688772, 0.99951038727390196, nan]\n",
      "90\n",
      "[2.0976176963403033, 0.99956852995470569, nan]\n",
      "91\n",
      "[1.6733200530681511, 0.99946454462685941, 0.9942899486040393]\n",
      "92\n",
      "[1.6733200530681511, 0.99942747372697749, nan]\n",
      "93\n",
      "[1.5491933384829668, 0.99948830272769762, nan]\n",
      "94\n",
      "[1.9493588689617927, 0.99949575931981149, nan]\n",
      "95\n",
      "[1.5491933384829668, 0.99949005109352529, nan]\n",
      "96\n",
      "[1.8973665961010275, 0.99951128612122142, nan]\n",
      "97\n",
      "[1.7320508075688772, 0.99948491513300119, nan]\n",
      "98\n",
      "[1.5491933384829668, 0.99946960130166573, nan]\n",
      "99\n",
      "[1.8439088914585775, 0.99953608906914537, 0.976879849005857]\n"
     ]
    }
   ],
   "source": [
    "communities = 2\n",
    "group_size=5\n",
    "data = [np.asarray(balanced_stochastic_blockmodel(communities=communities, groupsize=group_size, p_in=0.5, p_out=0.2)).astype(np.float64) for i in range(1000)]\n",
    "\n",
    "\n",
    "EigenDecomp_r_diff(100, 2, 5, data, 4, 4.5)"
   ]
  },
  {
   "cell_type": "code",
   "execution_count": 280,
   "metadata": {
    "collapsed": true
   },
   "outputs": [],
   "source": [
    "\n",
    "tf.reset_default_graph()"
   ]
  },
  {
   "cell_type": "code",
   "execution_count": 214,
   "metadata": {
    "collapsed": false
   },
   "outputs": [
    {
     "name": "stdout",
     "output_type": "stream",
     "text": [
      "0\n",
      "[2.0, 0.99846035320541238, nan]\n",
      "1\n",
      "[2.0, 0.99846035320541238, nan]\n",
      "2\n",
      "[2.0, 0.99846035320541238, nan]\n",
      "3\n",
      "[2.0, 0.99846035320541238, nan]\n",
      "4\n",
      "[2.0, 0.99846035320541238, nan]\n",
      "5\n",
      "[2.0, 0.99846035320541238, nan]\n",
      "6\n",
      "[2.0, 0.99846035320541238, nan]\n",
      "7\n",
      "[2.0, 0.99846035320541238, nan]\n",
      "8\n",
      "[2.0, 0.99846035320541238, nan]\n",
      "9\n",
      "[2.0, 0.99846035320541238, nan]\n"
     ]
    }
   ],
   "source": [
    "communities = 2\n",
    "group_size=5\n",
    "data = [np.asarray(balanced_stochastic_blockmodel(communities=communities, groupsize=group_size, p_in=1.0, p_out=0.0)).astype(np.float64) for i in range(1000)]\n",
    "\n",
    "\n",
    "EigenDecomp_r_diff(10, 2, 5, data, 2, 3)"
   ]
  },
  {
   "cell_type": "code",
   "execution_count": 267,
   "metadata": {
    "collapsed": false
   },
   "outputs": [],
   "source": [
    "communities = 2\n",
    "group_size=5\n",
    "data = [np.asarray(balanced_stochastic_blockmodel(communities=communities, groupsize=group_size, p_in=0.015, p_out=0.003)).astype(np.float64) for i in range(1000)]\n",
    "\n",
    "answer = EigenDecomp_r_diff_proj(100, 2, 5, data, 1, 7, 2)"
   ]
  },
  {
   "cell_type": "code",
   "execution_count": 268,
   "metadata": {
    "collapsed": false
   },
   "outputs": [
    {
     "data": {
      "text/plain": [
       "array([ 0.98559856,  1.        ,  0.94280904,  1.        ,  1.        ,\n",
       "        1.        ,  0.98559856,  1.        ,  1.        ,  0.98559856,\n",
       "        0.98559856,  0.94280904,  1.        ,  1.        ,  1.        ,\n",
       "        1.        ,  1.        ,  1.        ,  0.9999896 ,  1.        ,\n",
       "        1.        ,  1.        ,  0.98559856,  1.        ,  1.        ,\n",
       "        0.98559856,  1.        ,  1.        ,  1.        ,  0.98559856,\n",
       "        1.        ,  1.        ,  1.        ,  0.98620871,  0.98559856,\n",
       "        1.        ,  1.        ,  1.        ,  0.98559856,  0.98559856,\n",
       "        1.        ,  1.        ,  1.        ,  1.        ,  0.98559856,\n",
       "        0.9999896 ,  1.        ,  1.        ,  1.        ,  1.        ,\n",
       "        1.        ,  1.        ,  1.        ,  1.        ,  1.        ,\n",
       "        1.        ,  1.        ,  0.98559856,  0.9999896 ,  0.94280904,\n",
       "        0.94280904,  0.98559856,  1.        ,  1.        ,  1.        ,\n",
       "        1.        ,  1.        ,  1.        ,  1.        ,  1.        ,\n",
       "        1.        ,  1.        ,  1.        ,  0.98559856,  1.        ,\n",
       "        1.        ,  1.        ,  1.        ,  0.94280904,  1.        ,\n",
       "        1.        ,  1.        ,  1.        ,  1.        ,  1.        ,\n",
       "        1.        ,  0.98559856,  0.98559856,  0.98559856,  0.4960456 ,\n",
       "        0.98559856,  1.        ,  0.98559856,  0.98559856,  0.98559856,\n",
       "        0.98559856,  1.        ,  1.        ,  1.        ,  1.        ])"
      ]
     },
     "execution_count": 268,
     "metadata": {},
     "output_type": "execute_result"
    }
   ],
   "source": [
    "answer[:,2]"
   ]
  },
  {
   "cell_type": "code",
   "execution_count": 269,
   "metadata": {
    "collapsed": false
   },
   "outputs": [
    {
     "data": {
      "text/plain": [
       "0.98879436636310092"
      ]
     },
     "execution_count": 269,
     "metadata": {},
     "output_type": "execute_result"
    }
   ],
   "source": [
    "\n",
    "np.mean(np.abs(answer[:,2]))"
   ]
  },
  {
   "cell_type": "code",
   "execution_count": 243,
   "metadata": {
    "collapsed": true
   },
   "outputs": [],
   "source": []
  },
  {
   "cell_type": "code",
   "execution_count": 340,
   "metadata": {
    "collapsed": false
   },
   "outputs": [
    {
     "data": {
      "text/plain": [
       "<tf.Tensor 'Placeholder_22:0' shape=<unknown> dtype=float64>"
      ]
     },
     "execution_count": 340,
     "metadata": {},
     "output_type": "execute_result"
    }
   ],
   "source": [
    "dim_graph\n",
    "Adj"
   ]
  },
  {
   "cell_type": "code",
   "execution_count": 342,
   "metadata": {
    "collapsed": false
   },
   "outputs": [],
   "source": [
    "r = tf.cast(10^100, dtype=tf.float64)\n",
    "Adj = balanced_stochastic_blockmodel(communities=communities, groupsize=group_size, p_in=0.4, p_out=0.1)\n",
    "Bethe_Hesse_neg = (r*r-1)*tf.diag(tf.ones(shape=[dim_graph], dtype=tf.float64))-tf.mul(r, Adj)+Diag\n",
    "a = tf.self_adjoint_eig(Bethe_Hesse_neg)"
   ]
  },
  {
   "cell_type": "code",
   "execution_count": 344,
   "metadata": {
    "collapsed": false
   },
   "outputs": [
    {
     "ename": "InvalidArgumentError",
     "evalue": "You must feed a value for placeholder tensor 'Placeholder_22' with dtype double\n\t [[Node: Placeholder_22 = Placeholder[dtype=DT_DOUBLE, shape=[], _device=\"/job:localhost/replica:0/task:0/cpu:0\"]()]]\nCaused by op u'Placeholder_22', defined at:\n  File \"/Users/xiangli/anaconda/lib/python2.7/runpy.py\", line 162, in _run_module_as_main\n    \"__main__\", fname, loader, pkg_name)\n  File \"/Users/xiangli/anaconda/lib/python2.7/runpy.py\", line 72, in _run_code\n    exec code in run_globals\n  File \"/Users/xiangli/anaconda/lib/python2.7/site-packages/ipykernel/__main__.py\", line 3, in <module>\n    app.launch_new_instance()\n  File \"/Users/xiangli/anaconda/lib/python2.7/site-packages/traitlets/config/application.py\", line 596, in launch_instance\n    app.start()\n  File \"/Users/xiangli/anaconda/lib/python2.7/site-packages/ipykernel/kernelapp.py\", line 442, in start\n    ioloop.IOLoop.instance().start()\n  File \"/Users/xiangli/anaconda/lib/python2.7/site-packages/zmq/eventloop/ioloop.py\", line 162, in start\n    super(ZMQIOLoop, self).start()\n  File \"/Users/xiangli/anaconda/lib/python2.7/site-packages/tornado/ioloop.py\", line 883, in start\n    handler_func(fd_obj, events)\n  File \"/Users/xiangli/anaconda/lib/python2.7/site-packages/tornado/stack_context.py\", line 275, in null_wrapper\n    return fn(*args, **kwargs)\n  File \"/Users/xiangli/anaconda/lib/python2.7/site-packages/zmq/eventloop/zmqstream.py\", line 440, in _handle_events\n    self._handle_recv()\n  File \"/Users/xiangli/anaconda/lib/python2.7/site-packages/zmq/eventloop/zmqstream.py\", line 472, in _handle_recv\n    self._run_callback(callback, msg)\n  File \"/Users/xiangli/anaconda/lib/python2.7/site-packages/zmq/eventloop/zmqstream.py\", line 414, in _run_callback\n    callback(*args, **kwargs)\n  File \"/Users/xiangli/anaconda/lib/python2.7/site-packages/tornado/stack_context.py\", line 275, in null_wrapper\n    return fn(*args, **kwargs)\n  File \"/Users/xiangli/anaconda/lib/python2.7/site-packages/ipykernel/kernelbase.py\", line 276, in dispatcher\n    return self.dispatch_shell(stream, msg)\n  File \"/Users/xiangli/anaconda/lib/python2.7/site-packages/ipykernel/kernelbase.py\", line 228, in dispatch_shell\n    handler(stream, idents, msg)\n  File \"/Users/xiangli/anaconda/lib/python2.7/site-packages/ipykernel/kernelbase.py\", line 391, in execute_request\n    user_expressions, allow_stdin)\n  File \"/Users/xiangli/anaconda/lib/python2.7/site-packages/ipykernel/ipkernel.py\", line 199, in do_execute\n    shell.run_cell(code, store_history=store_history, silent=silent)\n  File \"/Users/xiangli/anaconda/lib/python2.7/site-packages/IPython/core/interactiveshell.py\", line 2723, in run_cell\n    interactivity=interactivity, compiler=compiler, result=result)\n  File \"/Users/xiangli/anaconda/lib/python2.7/site-packages/IPython/core/interactiveshell.py\", line 2825, in run_ast_nodes\n    if self.run_code(code, result):\n  File \"/Users/xiangli/anaconda/lib/python2.7/site-packages/IPython/core/interactiveshell.py\", line 2885, in run_code\n    exec(code_obj, self.user_global_ns, self.user_ns)\n  File \"<ipython-input-331-f519912c7c35>\", line 10, in <module>\n    Adj = tf.placeholder(tf.float64)\n  File \"/Users/xiangli/anaconda/lib/python2.7/site-packages/tensorflow/python/ops/array_ops.py\", line 1332, in placeholder\n    name=name)\n  File \"/Users/xiangli/anaconda/lib/python2.7/site-packages/tensorflow/python/ops/gen_array_ops.py\", line 1606, in _placeholder\n    name=name)\n  File \"/Users/xiangli/anaconda/lib/python2.7/site-packages/tensorflow/python/framework/op_def_library.py\", line 749, in apply_op\n    op_def=op_def)\n  File \"/Users/xiangli/anaconda/lib/python2.7/site-packages/tensorflow/python/framework/ops.py\", line 2380, in create_op\n    original_op=self._default_original_op, op_def=op_def)\n  File \"/Users/xiangli/anaconda/lib/python2.7/site-packages/tensorflow/python/framework/ops.py\", line 1298, in __init__\n    self._traceback = _extract_stack()\n",
     "output_type": "error",
     "traceback": [
      "\u001b[0;31m---------------------------------------------------------------------------\u001b[0m",
      "\u001b[0;31mInvalidArgumentError\u001b[0m                      Traceback (most recent call last)",
      "\u001b[0;32m<ipython-input-344-3e381d67f888>\u001b[0m in \u001b[0;36m<module>\u001b[0;34m()\u001b[0m\n\u001b[1;32m      1\u001b[0m \u001b[0;32mwith\u001b[0m \u001b[0mtf\u001b[0m\u001b[0;34m.\u001b[0m\u001b[0mSession\u001b[0m\u001b[0;34m(\u001b[0m\u001b[0;34m)\u001b[0m \u001b[0;32mas\u001b[0m \u001b[0msess\u001b[0m\u001b[0;34m:\u001b[0m\u001b[0;34m\u001b[0m\u001b[0m\n\u001b[0;32m----> 2\u001b[0;31m     \u001b[0;32mprint\u001b[0m \u001b[0msess\u001b[0m\u001b[0;34m.\u001b[0m\u001b[0mrun\u001b[0m\u001b[0;34m(\u001b[0m\u001b[0mBethe_Hesse_neg\u001b[0m\u001b[0;34m)\u001b[0m\u001b[0;34m\u001b[0m\u001b[0m\n\u001b[0m",
      "\u001b[0;32m/Users/xiangli/anaconda/lib/python2.7/site-packages/tensorflow/python/client/session.pyc\u001b[0m in \u001b[0;36mrun\u001b[0;34m(self, fetches, feed_dict, options, run_metadata)\u001b[0m\n\u001b[1;32m    715\u001b[0m     \u001b[0;32mtry\u001b[0m\u001b[0;34m:\u001b[0m\u001b[0;34m\u001b[0m\u001b[0m\n\u001b[1;32m    716\u001b[0m       result = self._run(None, fetches, feed_dict, options_ptr,\n\u001b[0;32m--> 717\u001b[0;31m                          run_metadata_ptr)\n\u001b[0m\u001b[1;32m    718\u001b[0m       \u001b[0;32mif\u001b[0m \u001b[0mrun_metadata\u001b[0m\u001b[0;34m:\u001b[0m\u001b[0;34m\u001b[0m\u001b[0m\n\u001b[1;32m    719\u001b[0m         \u001b[0mproto_data\u001b[0m \u001b[0;34m=\u001b[0m \u001b[0mtf_session\u001b[0m\u001b[0;34m.\u001b[0m\u001b[0mTF_GetBuffer\u001b[0m\u001b[0;34m(\u001b[0m\u001b[0mrun_metadata_ptr\u001b[0m\u001b[0;34m)\u001b[0m\u001b[0;34m\u001b[0m\u001b[0m\n",
      "\u001b[0;32m/Users/xiangli/anaconda/lib/python2.7/site-packages/tensorflow/python/client/session.pyc\u001b[0m in \u001b[0;36m_run\u001b[0;34m(self, handle, fetches, feed_dict, options, run_metadata)\u001b[0m\n\u001b[1;32m    913\u001b[0m     \u001b[0;32mif\u001b[0m \u001b[0mfinal_fetches\u001b[0m \u001b[0;32mor\u001b[0m \u001b[0mfinal_targets\u001b[0m\u001b[0;34m:\u001b[0m\u001b[0;34m\u001b[0m\u001b[0m\n\u001b[1;32m    914\u001b[0m       results = self._do_run(handle, final_targets, final_fetches,\n\u001b[0;32m--> 915\u001b[0;31m                              feed_dict_string, options, run_metadata)\n\u001b[0m\u001b[1;32m    916\u001b[0m     \u001b[0;32melse\u001b[0m\u001b[0;34m:\u001b[0m\u001b[0;34m\u001b[0m\u001b[0m\n\u001b[1;32m    917\u001b[0m       \u001b[0mresults\u001b[0m \u001b[0;34m=\u001b[0m \u001b[0;34m[\u001b[0m\u001b[0;34m]\u001b[0m\u001b[0;34m\u001b[0m\u001b[0m\n",
      "\u001b[0;32m/Users/xiangli/anaconda/lib/python2.7/site-packages/tensorflow/python/client/session.pyc\u001b[0m in \u001b[0;36m_do_run\u001b[0;34m(self, handle, target_list, fetch_list, feed_dict, options, run_metadata)\u001b[0m\n\u001b[1;32m    963\u001b[0m     \u001b[0;32mif\u001b[0m \u001b[0mhandle\u001b[0m \u001b[0;32mis\u001b[0m \u001b[0mNone\u001b[0m\u001b[0;34m:\u001b[0m\u001b[0;34m\u001b[0m\u001b[0m\n\u001b[1;32m    964\u001b[0m       return self._do_call(_run_fn, self._session, feed_dict, fetch_list,\n\u001b[0;32m--> 965\u001b[0;31m                            target_list, options, run_metadata)\n\u001b[0m\u001b[1;32m    966\u001b[0m     \u001b[0;32melse\u001b[0m\u001b[0;34m:\u001b[0m\u001b[0;34m\u001b[0m\u001b[0m\n\u001b[1;32m    967\u001b[0m       return self._do_call(_prun_fn, self._session, handle, feed_dict,\n",
      "\u001b[0;32m/Users/xiangli/anaconda/lib/python2.7/site-packages/tensorflow/python/client/session.pyc\u001b[0m in \u001b[0;36m_do_call\u001b[0;34m(self, fn, *args)\u001b[0m\n\u001b[1;32m    983\u001b[0m         \u001b[0;32mexcept\u001b[0m \u001b[0mKeyError\u001b[0m\u001b[0;34m:\u001b[0m\u001b[0;34m\u001b[0m\u001b[0m\n\u001b[1;32m    984\u001b[0m           \u001b[0;32mpass\u001b[0m\u001b[0;34m\u001b[0m\u001b[0m\n\u001b[0;32m--> 985\u001b[0;31m       \u001b[0;32mraise\u001b[0m \u001b[0mtype\u001b[0m\u001b[0;34m(\u001b[0m\u001b[0me\u001b[0m\u001b[0;34m)\u001b[0m\u001b[0;34m(\u001b[0m\u001b[0mnode_def\u001b[0m\u001b[0;34m,\u001b[0m \u001b[0mop\u001b[0m\u001b[0;34m,\u001b[0m \u001b[0mmessage\u001b[0m\u001b[0;34m)\u001b[0m\u001b[0;34m\u001b[0m\u001b[0m\n\u001b[0m\u001b[1;32m    986\u001b[0m \u001b[0;34m\u001b[0m\u001b[0m\n\u001b[1;32m    987\u001b[0m   \u001b[0;32mdef\u001b[0m \u001b[0m_extend_graph\u001b[0m\u001b[0;34m(\u001b[0m\u001b[0mself\u001b[0m\u001b[0;34m)\u001b[0m\u001b[0;34m:\u001b[0m\u001b[0;34m\u001b[0m\u001b[0m\n",
      "\u001b[0;31mInvalidArgumentError\u001b[0m: You must feed a value for placeholder tensor 'Placeholder_22' with dtype double\n\t [[Node: Placeholder_22 = Placeholder[dtype=DT_DOUBLE, shape=[], _device=\"/job:localhost/replica:0/task:0/cpu:0\"]()]]\nCaused by op u'Placeholder_22', defined at:\n  File \"/Users/xiangli/anaconda/lib/python2.7/runpy.py\", line 162, in _run_module_as_main\n    \"__main__\", fname, loader, pkg_name)\n  File \"/Users/xiangli/anaconda/lib/python2.7/runpy.py\", line 72, in _run_code\n    exec code in run_globals\n  File \"/Users/xiangli/anaconda/lib/python2.7/site-packages/ipykernel/__main__.py\", line 3, in <module>\n    app.launch_new_instance()\n  File \"/Users/xiangli/anaconda/lib/python2.7/site-packages/traitlets/config/application.py\", line 596, in launch_instance\n    app.start()\n  File \"/Users/xiangli/anaconda/lib/python2.7/site-packages/ipykernel/kernelapp.py\", line 442, in start\n    ioloop.IOLoop.instance().start()\n  File \"/Users/xiangli/anaconda/lib/python2.7/site-packages/zmq/eventloop/ioloop.py\", line 162, in start\n    super(ZMQIOLoop, self).start()\n  File \"/Users/xiangli/anaconda/lib/python2.7/site-packages/tornado/ioloop.py\", line 883, in start\n    handler_func(fd_obj, events)\n  File \"/Users/xiangli/anaconda/lib/python2.7/site-packages/tornado/stack_context.py\", line 275, in null_wrapper\n    return fn(*args, **kwargs)\n  File \"/Users/xiangli/anaconda/lib/python2.7/site-packages/zmq/eventloop/zmqstream.py\", line 440, in _handle_events\n    self._handle_recv()\n  File \"/Users/xiangli/anaconda/lib/python2.7/site-packages/zmq/eventloop/zmqstream.py\", line 472, in _handle_recv\n    self._run_callback(callback, msg)\n  File \"/Users/xiangli/anaconda/lib/python2.7/site-packages/zmq/eventloop/zmqstream.py\", line 414, in _run_callback\n    callback(*args, **kwargs)\n  File \"/Users/xiangli/anaconda/lib/python2.7/site-packages/tornado/stack_context.py\", line 275, in null_wrapper\n    return fn(*args, **kwargs)\n  File \"/Users/xiangli/anaconda/lib/python2.7/site-packages/ipykernel/kernelbase.py\", line 276, in dispatcher\n    return self.dispatch_shell(stream, msg)\n  File \"/Users/xiangli/anaconda/lib/python2.7/site-packages/ipykernel/kernelbase.py\", line 228, in dispatch_shell\n    handler(stream, idents, msg)\n  File \"/Users/xiangli/anaconda/lib/python2.7/site-packages/ipykernel/kernelbase.py\", line 391, in execute_request\n    user_expressions, allow_stdin)\n  File \"/Users/xiangli/anaconda/lib/python2.7/site-packages/ipykernel/ipkernel.py\", line 199, in do_execute\n    shell.run_cell(code, store_history=store_history, silent=silent)\n  File \"/Users/xiangli/anaconda/lib/python2.7/site-packages/IPython/core/interactiveshell.py\", line 2723, in run_cell\n    interactivity=interactivity, compiler=compiler, result=result)\n  File \"/Users/xiangli/anaconda/lib/python2.7/site-packages/IPython/core/interactiveshell.py\", line 2825, in run_ast_nodes\n    if self.run_code(code, result):\n  File \"/Users/xiangli/anaconda/lib/python2.7/site-packages/IPython/core/interactiveshell.py\", line 2885, in run_code\n    exec(code_obj, self.user_global_ns, self.user_ns)\n  File \"<ipython-input-331-f519912c7c35>\", line 10, in <module>\n    Adj = tf.placeholder(tf.float64)\n  File \"/Users/xiangli/anaconda/lib/python2.7/site-packages/tensorflow/python/ops/array_ops.py\", line 1332, in placeholder\n    name=name)\n  File \"/Users/xiangli/anaconda/lib/python2.7/site-packages/tensorflow/python/ops/gen_array_ops.py\", line 1606, in _placeholder\n    name=name)\n  File \"/Users/xiangli/anaconda/lib/python2.7/site-packages/tensorflow/python/framework/op_def_library.py\", line 749, in apply_op\n    op_def=op_def)\n  File \"/Users/xiangli/anaconda/lib/python2.7/site-packages/tensorflow/python/framework/ops.py\", line 2380, in create_op\n    original_op=self._default_original_op, op_def=op_def)\n  File \"/Users/xiangli/anaconda/lib/python2.7/site-packages/tensorflow/python/framework/ops.py\", line 1298, in __init__\n    self._traceback = _extract_stack()\n"
     ]
    }
   ],
   "source": [
    "with tf.Session() as sess:\n",
    "    print sess.run(Bethe_Hesse_neg)"
   ]
  }
 ],
 "metadata": {
  "kernelspec": {
   "display_name": "Python 2",
   "language": "python",
   "name": "python2"
  },
  "language_info": {
   "codemirror_mode": {
    "name": "ipython",
    "version": 2
   },
   "file_extension": ".py",
   "mimetype": "text/x-python",
   "name": "python",
   "nbconvert_exporter": "python",
   "pygments_lexer": "ipython2",
   "version": "2.7.11"
  }
 },
 "nbformat": 4,
 "nbformat_minor": 0
}
