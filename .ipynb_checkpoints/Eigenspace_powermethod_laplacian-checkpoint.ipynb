{
 "cells": [
  {
   "cell_type": "markdown",
   "metadata": {},
   "source": [
    "#we try to implement powermethod with kmeans: here\n",
    "http://jmlr.org/proceedings/papers/v37/boutsidis15.pdf"
   ]
  },
  {
   "cell_type": "code",
   "execution_count": 4,
   "metadata": {
    "collapsed": true
   },
   "outputs": [],
   "source": [
    "import numpy as np\n",
    "import scipy as sp\n",
    "import pandas as pd\n",
    "import random\n",
    "import matplotlib.pyplot as plt\n",
    "import tensorflow as tf\n",
    "\n",
    "%matplotlib inline"
   ]
  },
  {
   "cell_type": "code",
   "execution_count": 7,
   "metadata": {
    "collapsed": false
   },
   "outputs": [
    {
     "name": "stdout",
     "output_type": "stream",
     "text": [
      "[[ 0.92139587  0.1652271   0.56290292  0.23295117  0.56581458  0.38406818]\n",
      " [ 0.32946537  0.4732279   0.8363037   0.60032863  0.64249608  0.22248859]\n",
      " [ 0.30062847  0.16211029  0.92651952  0.54943284  0.35227909  0.30673422]\n",
      " [ 0.06029913  0.19244761  0.48358007  0.11766975  0.4815164   0.83157198]\n",
      " [ 0.42746185  0.92213474  0.45224581  0.58889495  0.53999862  0.79928365]\n",
      " [ 0.78450378  0.11089908  0.3623496   0.41529215  0.113503    0.04815951]]\n",
      "[-0.43173130+0.j -0.46813763+0.j -0.36564634+0.j -0.30230642+0.j\n",
      " -0.54520051+0.j -0.26856142+0.j]\n"
     ]
    }
   ],
   "source": [
    "def euclidean_norm(tensor): #need to have this for tf to work\n",
    "    square_tensor = tf.square(tensor)\n",
    "    norm_squared = tf.reduce_sum(square_tensor)\n",
    "    euclidean_norm = tf.sqrt(norm_squared)\n",
    "    return euclidean_norm\n",
    "\n",
    "x = np.random.rand(6,6)\n",
    "eigenValues,eigenVectors = np.linalg.eig(x)\n",
    "y = eigenVectors[:, eigenValues.argmax()]\n",
    "\n",
    "print x\n",
    "print y"
   ]
  },
  {
   "cell_type": "code",
   "execution_count": 8,
   "metadata": {
    "collapsed": false
   },
   "outputs": [
    {
     "name": "stdout",
     "output_type": "stream",
     "text": [
      "[array([[-0.40823004],\n",
      "       [-0.35269931],\n",
      "       [-0.29864204],\n",
      "       [-0.41975018],\n",
      "       [-0.62295759],\n",
      "       [-0.23558012]], dtype=float32), array([[-0.26560271],\n",
      "       [-0.08050546],\n",
      "       [ 0.13229793],\n",
      "       [-0.43441194],\n",
      "       [-0.30267304],\n",
      "       [-0.69729996]], dtype=float32)]\n",
      "[array([[-0.44441736],\n",
      "       [-0.44454512],\n",
      "       [-0.34946659],\n",
      "       [-0.31506976],\n",
      "       [-0.55342394],\n",
      "       [-0.27784696]], dtype=float32), array([[-0.45281619],\n",
      "       [-0.34480271],\n",
      "       [-0.21312502],\n",
      "       [-0.33494425],\n",
      "       [-0.50335008],\n",
      "       [-0.35751027]], dtype=float32)]\n"
     ]
    }
   ],
   "source": [
    "#now let try to get the first egenvector right with some backprop\n",
    "\n",
    "\n",
    "\n",
    "\n",
    "dim_graph = len(x)\n",
    "dim_subspace = 1\n",
    "    \n",
    "x = tf.cast(x, tf.float32)\n",
    "y = tf.cast(y, tf.float32)\n",
    "\n",
    "f = {}\n",
    "for i in range(1,dim_subspace+1):\n",
    "    f[\"v{}\".format(i)] = tf.Variable(tf.random_uniform(shape = [dim_graph,1],\n",
    "                                                       minval=-1,\n",
    "                                                       maxval = 1,\n",
    "                                                       dtype = tf.float32))\n",
    "y = f[\"v1\"]\n",
    "   \n",
    "\n",
    "adjacency_vector = tf.matmul(x, y)\n",
    "adjacency_vector = adjacency_vector/euclidean_norm(adjacency_vector)\n",
    "\n",
    "cost = tf.reduce_mean(tf.square(y-adjacency_vector))                \n",
    "optimizer = tf.train.GradientDescentOptimizer(0.01)\n",
    "\n",
    "train = optimizer.minimize(loss = cost, var_list = [f[\"v1\"]])\n",
    "\n",
    "init_op = tf.initialize_all_variables()\n",
    "\n",
    "\n",
    "sess = tf.Session()\n",
    "sess.run(init_op)\n",
    "\n",
    "for i in xrange(1000):\n",
    "    sess.run(train)\n",
    "    if i%500==0:\n",
    "        print sess.run([adjacency_vector, f[\"v1\"]])\n",
    "#seems to be accurate, though not really fast."
   ]
  },
  {
   "cell_type": "code",
   "execution_count": null,
   "metadata": {
    "collapsed": true
   },
   "outputs": [],
   "source": [
    "x = np.random.rand(6,6)\n",
    "\n"
   ]
  },
  {
   "cell_type": "code",
   "execution_count": 18,
   "metadata": {
    "collapsed": false
   },
   "outputs": [
    {
     "name": "stdout",
     "output_type": "stream",
     "text": [
      "[[ 0.22785513  0.14555821  0.05612845  0.34759179  0.21188471  0.29740292]\n",
      " [ 0.5355078   0.14117216  0.22006038  0.49822322  0.01076254  0.27726698]\n",
      " [ 0.02561609  0.09864324  0.12067869  0.08292868  0.28207865  0.08401302]\n",
      " [ 0.16487895  0.059545    0.13016525  0.1525383   0.01845719  0.1508863 ]\n",
      " [ 0.05724719  0.05171482  0.27181932  0.23977141  0.16417806  0.08186068]\n",
      " [ 0.10703597  0.1562786   0.32428479  0.08411386  0.17231245  0.28296465]]\n"
     ]
    }
   ],
   "source": [
    "#get diagonal matrix from adjacency matrix\n",
    "x = np.random.rand(6,6)\n",
    "\n",
    "    \n",
    "x = tf.cast(x, tf.float32)\n",
    "\n",
    "degree_m_inverse = tf.diag(tf.inv(tf.reduce_sum(x,0))) #takes the degree of each vertex and makes diagonal matrix out of it\n",
    "\n",
    "laplacian = tf.matmul(degree_m_inverse, x)\n",
    "\n",
    "\n",
    "with tf.Session() as sess:\n",
    "    print sess.run(laplacian)"
   ]
  },
  {
   "cell_type": "code",
   "execution_count": 12,
   "metadata": {
    "collapsed": false
   },
   "outputs": [],
   "source": []
  },
  {
   "cell_type": "code",
   "execution_count": null,
   "metadata": {
    "collapsed": true
   },
   "outputs": [],
   "source": []
  }
 ],
 "metadata": {
  "kernelspec": {
   "display_name": "Python 2",
   "language": "python",
   "name": "python2"
  },
  "language_info": {
   "codemirror_mode": {
    "name": "ipython",
    "version": 2
   },
   "file_extension": ".py",
   "mimetype": "text/x-python",
   "name": "python",
   "nbconvert_exporter": "python",
   "pygments_lexer": "ipython2",
   "version": "2.7.11"
  }
 },
 "nbformat": 4,
 "nbformat_minor": 0
}
