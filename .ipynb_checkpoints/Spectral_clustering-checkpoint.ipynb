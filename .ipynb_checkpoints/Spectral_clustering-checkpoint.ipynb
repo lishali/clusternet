{
 "cells": [
  {
   "cell_type": "code",
   "execution_count": 18,
   "metadata": {
    "collapsed": false
   },
   "outputs": [],
   "source": [
    "import numpy as np\n",
    "import scipy as sp\n",
    "import pandas as pd\n",
    "import networkx as nx\n",
    "from joblib import parallel, delayed"
   ]
  },
  {
   "cell_type": "markdown",
   "metadata": {},
   "source": [
    "Spectral Clustering using Adjacency Matrix and Laplacian:\n",
    "Adjacency:  optimizes on in group closeness\n",
    "Laplacian: Average cut\n",
    "A variant of the Laplacian: Normalized Cut\n",
    "\n",
    "In general, Laplacian has better behaved/more stable convergenence properties of eigenvectors (makes sense when we are dealing with random graphs).  \n",
    "\n",
    "TODO\n",
    "make function for laplacian\n",
    "make function for adjaceny matrix\n",
    "make function for non backtracking matrix\n",
    "\n",
    "make sampling method for blockmodel\n",
    "\n",
    "make function for power method\n",
    "\n",
    "make function for power method for subspace"
   ]
  },
  {
   "cell_type": "code",
   "execution_count": 25,
   "metadata": {
    "collapsed": false
   },
   "outputs": [],
   "source": [
    "#assume graphs are dictionaries of vertices with entries that are the incident vertices for now, we can change this later.  \n",
    "\n",
    "\n",
    "\n",
    "#compute laplacian\n",
    "    #f-Mf\n",
    "\n",
    "        #averaging function\n",
    "        \n",
    "simple_graph = {\n",
    "    0: [2,3],\n",
    "    1: [2, 3],\n",
    "    2: [3], \n",
    "    3: [0, 1]\n",
    "}\n",
    "\n",
    "simple_graph[1]\n",
    "\n",
    "vector = np.array([1,1,1,1])\n",
    "\n",
    "lst = [vector[i] for i in simple_graph[1]]\n"
   ]
  },
  {
   "cell_type": "code",
   "execution_count": 28,
   "metadata": {
    "collapsed": true
   },
   "outputs": [],
   "source": [
    "def AverageOperatorVertex(vertex, vector, graph):\n",
    "    lst = [vector[i] for i in graph[vertex]]\n",
    "    answer = np.sum(lst)\n",
    "    return(answer)\n",
    "\n"
   ]
  },
  {
   "cell_type": "code",
   "execution_count": 29,
   "metadata": {
    "collapsed": false
   },
   "outputs": [
    {
     "data": {
      "text/plain": [
       "4"
      ]
     },
     "execution_count": 29,
     "metadata": {},
     "output_type": "execute_result"
    }
   ],
   "source": [
    "AverageOperatorVertex(vertex = 2, vector = np.array([1,2,3,4]), graph = simple_graph)"
   ]
  },
  {
   "cell_type": "code",
   "execution_count": 30,
   "metadata": {
    "collapsed": true
   },
   "outputs": [],
   "source": [
    "\n",
    "def GraphLaplacian(graph, vector):\n",
    "    #takes in graph and vector on graph indices, returns new vector\n",
    "    new_vector = np.empty(len(vector),)\n",
    "    for i in graph:\n",
    "        #this step can be parallelized\n",
    "        new_vector[i] = vector[i]-AverageOperatorVertex(vertex=i, vector = vector, graph = graph)\n",
    "    return new_vector"
   ]
  },
  {
   "cell_type": "code",
   "execution_count": 31,
   "metadata": {
    "collapsed": false
   },
   "outputs": [
    {
     "data": {
      "text/plain": [
       "array([ 2.,  2.,  1.,  2.])"
      ]
     },
     "execution_count": 31,
     "metadata": {},
     "output_type": "execute_result"
    }
   ],
   "source": [
    "GraphLaplacian(simple_graph, np.array([1,1,1,1]))"
   ]
  },
  {
   "cell_type": "code",
   "execution_count": 32,
   "metadata": {
    "collapsed": false
   },
   "outputs": [],
   "source": [
    "#first try at implementing net\n",
    "\n",
    "#nonlinearity?\n",
    "#fixed number of layers for iterations\n",
    "#fixed subspace dimension for number of eigenvectors\n",
    "\n",
    "\n",
    "def ClusterNetForwardPass(Graph, layers=10, subspace_dim=1, vector=None):\n",
    "    #takes in graph, computes Laplacian, then does powermethod\n",
    "    #we end up with a list of k eigenvectors to do k-means on\n",
    "    #we assume Graph given as a dictionary\n",
    "    \n",
    "    if vector==None:\n",
    "        vector = np.random.normal(0,1,len(Graph)) #we initalize with function with random components as default\n",
    "    \n",
    "    eigenvectors = [vector]*subspace_dim #initialize list of eigvectors we want to return\n",
    "    \n",
    "    \n",
    "    for i in range(subspace_dim): #This is done for the number of eigenvectors we want to find.\n",
    "        #so this cannot be done in parallel.  \n",
    "\n",
    "        #ghetto hack for operator tail recursion\n",
    "        lmbda_lst = np.zeros(subspace_dim)\n",
    "        for j in range(layers): #This is iterated for the power we want to bring the operator, \n",
    "            #so this cannot be done in parallel:\n",
    "            tmp_vector = GraphLaplacian(graph=Graph, vector=vector)\n",
    "            for k in range(subspace_dim):\n",
    "                tmp_vector = tmp_vector-lmbda_lst[k]*vector #this will only amount to something if our list contains eigenvalues\n",
    "            new_vector = tmp_vector/np.sqrt(np.dot(tmp_vector, tmp_vector))\n",
    "\n",
    "            \n",
    "        eigenvectors[i] = new_vector #this will already be normalized by the last iteration of j\n",
    "        lmbda_lst[i] = np.dot(GraphLaplacian(graph=Graph, vector = eigenvectors[i]), eigenvectors[i]) #since it is normalized,\n",
    "        #the scaling factor will be lamba\n",
    "\n",
    "        vector = np.random.normal(0,1,len(Graph))\n",
    "        #now we are onto finding the second eigenvector\n",
    "        #we should randomize the next vector\n",
    "    \n",
    "\n",
    "        \n",
    "    return eigenvectors\n",
    "        "
   ]
  },
  {
   "cell_type": "code",
   "execution_count": 33,
   "metadata": {
    "collapsed": false
   },
   "outputs": [
    {
     "data": {
      "text/plain": [
       "[array([-0.59491477, -0.59491477, -0.10011453,  0.53115902]),\n",
       " array([ 0.00361467,  0.00361467,  0.12889896,  0.99164456])]"
      ]
     },
     "execution_count": 33,
     "metadata": {},
     "output_type": "execute_result"
    }
   ],
   "source": [
    "ClusterNetForwardPass(Graph = simple_graph, layers = 10, subspace_dim=2)"
   ]
  },
  {
   "cell_type": "code",
   "execution_count": 60,
   "metadata": {
    "collapsed": false
   },
   "outputs": [],
   "source": [
    "#first try at implementing net\n",
    "\n",
    "#nonlinearity?\n",
    "#fixed number of layers for iterations\n",
    "#fixed subspace dimension for number of eigenvectors\n",
    "\n",
    "\n",
    "def ClusterNetForwardPass(Graph, layers=10, subspace_dim=1, vector=None, adjaceny=True):\n",
    "    #takes in graph, computes Laplacian, then does powermethod\n",
    "    #we end up with a list of k eigenvectors to do k-means on\n",
    "    #we assume Graph given as a dictionary\n",
    "    \n",
    "    if adjaceny==True:\n",
    "        Graph_adjmatrix = nx.to_numpy_matrix(Graph)\n",
    "        \n",
    "        \n",
    "    if vector==None:\n",
    "        vector = np.random.normal(0,1,len(Graph_adjmatrix)) #we initalize with function with random components as default\n",
    "    \n",
    "    eigenvectors = [vector]*subspace_dim #initialize list of eigvectors we want to return\n",
    "    \n",
    "\n",
    "        \n",
    "    new_matrix = Graph_adjmatrix\n",
    "    \n",
    "    for i in range(subspace_dim): #This is done for the number of eigenvectors we want to find.\n",
    "        #so this cannot be done in parallel.  \n",
    "\n",
    "        for j in range(layers): #This is iterated for the power we want to bring the operator, \n",
    "            #so this cannot be done in parallel:\n",
    "            tmp_vector = np.multiply(new_matrix, vector) #this should be done in parallel since each component does not reference the other\n",
    "\n",
    "            new_vector = tmp_vector/np.sqrt(np.dot(tmp_vector, tmp_vector))\n",
    "            \n",
    "            \n",
    "\n",
    "            \n",
    "        eigenvectors[i] = new_vector #this will already be normalized by the last iteration of j\n",
    "        \n",
    "\n",
    "        new_matrix = new_matrix - np.dot(Graph_adjmatrix, eigenvectors[i])*np.identity(len(Graph_adjmatrix))\n",
    "        \n",
    "        vector = np.random.normal(0,1,len(Graph_adjmatrix))\n",
    "        #now we are onto finding the second eigenvector\n",
    "        #we should randomize the next vector\n",
    "    \n",
    "\n",
    "        \n",
    "    return eigenvectors\n",
    "        "
   ]
  },
  {
   "cell_type": "code",
   "execution_count": 61,
   "metadata": {
    "collapsed": false
   },
   "outputs": [
    {
     "data": {
      "text/plain": [
       "[matrix([[        nan,        -inf,         nan,         nan,         nan,\n",
       "                  nan, -0.        ,         nan,         nan,         inf],\n",
       "         [       -inf,         nan,         nan,         nan,         nan,\n",
       "                  nan,         nan,         nan,         nan,         nan],\n",
       "         [-0.        , -0.79939561,         nan,         nan,         nan,\n",
       "          -1.00093629, -0.78065302,         nan,         nan,         nan],\n",
       "         [        nan, -0.        ,         nan,         nan,         nan,\n",
       "          -0.        ,        -inf,         nan,         nan,         nan],\n",
       "         [        nan,         nan,         nan,         nan,         nan,\n",
       "                  nan,         nan,         nan,         nan,         nan],\n",
       "         [        nan,         nan,         nan,         nan,         nan,\n",
       "                  nan,         nan,         nan,         nan,         nan],\n",
       "         [-0.        ,         nan,         nan,         inf,         nan,\n",
       "                  nan,         nan,         inf,  0.        ,         nan],\n",
       "         [        nan, -0.        ,         nan,         nan,         nan,\n",
       "          -0.        ,        -inf,  0.        ,         inf,         nan],\n",
       "         [        nan,         nan,         nan,         nan,         nan,\n",
       "                  nan,         nan,         inf,  0.        ,         nan],\n",
       "         [       -inf, -0.        ,         nan,         nan,         nan,\n",
       "                  nan,         nan,         nan,         nan,         nan]]),\n",
       " matrix([[ nan,  nan,  nan,  nan,  nan,  nan,  nan,  nan,  nan,  nan],\n",
       "         [ nan,  nan,  nan,  nan,  nan,  nan,  nan,  nan,  nan,  nan],\n",
       "         [ nan,  nan,  nan,  nan,  nan,  nan,  nan,  nan,  nan,  nan],\n",
       "         [ nan,  nan,  nan,  nan,  nan,  nan,  nan,  nan,  nan,  nan],\n",
       "         [ nan,  nan,  nan,  nan,  nan,  nan,  nan,  nan,  nan,  nan],\n",
       "         [ nan,  nan,  nan,  nan,  nan,  nan,  nan,  nan,  nan,  nan],\n",
       "         [ nan,  nan,  nan,  nan,  nan,  nan,  nan,  nan,  nan,  nan],\n",
       "         [ nan,  nan,  nan,  nan,  nan,  nan,  nan,  nan,  nan,  nan],\n",
       "         [ nan,  nan,  nan,  nan,  nan,  nan,  nan,  nan,  nan,  nan],\n",
       "         [ nan,  nan,  nan,  nan,  nan,  nan,  nan,  nan,  nan,  nan]])]"
      ]
     },
     "execution_count": 61,
     "metadata": {},
     "output_type": "execute_result"
    }
   ],
   "source": [
    "er_graph_10 = nx.erdos_renyi_graph(10, 0.2, seed=1)\n",
    "vector = np.random.normal(0,1,len(er_graph_10))\n",
    "new_matrix = er_graph_10\n",
    "tmp_vector = np.multiply(vector, vector)\n",
    "tmp_vector\n",
    "ClusterNetForwardPass(Graph = er_graph_10, layers = 10, subspace_dim=2)\n",
    "\n"
   ]
  },
  {
   "cell_type": "code",
   "execution_count": 46,
   "metadata": {
    "collapsed": false
   },
   "outputs": [
    {
     "name": "stdout",
     "output_type": "stream",
     "text": [
      "{0: [1, 9], 1: [0, 2, 6], 2: [1, 5, 6], 3: [6], 4: [], 5: [2, 6], 6: [1, 2, 3, 5, 7], 7: [8, 6], 8: [7], 9: [0]}\n",
      "[[ 0.  1.  0.  0.  0.  0.  0.  0.  0.  1.]\n",
      " [ 1.  0.  1.  0.  0.  0.  1.  0.  0.  0.]\n",
      " [ 0.  1.  0.  0.  0.  1.  1.  0.  0.  0.]\n",
      " [ 0.  0.  0.  0.  0.  0.  1.  0.  0.  0.]\n",
      " [ 0.  0.  0.  0.  0.  0.  0.  0.  0.  0.]\n",
      " [ 0.  0.  1.  0.  0.  0.  1.  0.  0.  0.]\n",
      " [ 0.  1.  1.  1.  0.  1.  0.  1.  0.  0.]\n",
      " [ 0.  0.  0.  0.  0.  0.  1.  0.  1.  0.]\n",
      " [ 0.  0.  0.  0.  0.  0.  0.  1.  0.  0.]\n",
      " [ 1.  0.  0.  0.  0.  0.  0.  0.  0.  0.]]\n"
     ]
    }
   ],
   "source": [
    "er_graph_10 = nx.erdos_renyi_graph(10, 0.2, seed=1)\n",
    "print nx.to_dict_of_lists(er_graph_10)\n",
    "print nx.to_numpy_matrix(er_graph_10)"
   ]
  },
  {
   "cell_type": "code",
   "execution_count": 47,
   "metadata": {
    "collapsed": false
   },
   "outputs": [
    {
     "data": {
      "text/plain": [
       "10"
      ]
     },
     "execution_count": 47,
     "metadata": {},
     "output_type": "execute_result"
    }
   ],
   "source": [
    "len(nx.to_numpy_matrix(er_graph_10))"
   ]
  },
  {
   "cell_type": "code",
   "execution_count": null,
   "metadata": {
    "collapsed": false
   },
   "outputs": [],
   "source": []
  },
  {
   "cell_type": "code",
   "execution_count": null,
   "metadata": {
    "collapsed": true
   },
   "outputs": [],
   "source": []
  }
 ],
 "metadata": {
  "kernelspec": {
   "display_name": "Python 2",
   "language": "python",
   "name": "python2"
  },
  "language_info": {
   "codemirror_mode": {
    "name": "ipython",
    "version": 2
   },
   "file_extension": ".py",
   "mimetype": "text/x-python",
   "name": "python",
   "nbconvert_exporter": "python",
   "pygments_lexer": "ipython2",
   "version": "2.7.11"
  }
 },
 "nbformat": 4,
 "nbformat_minor": 0
}
