{
 "cells": [
  {
   "cell_type": "code",
   "execution_count": 1,
   "metadata": {
    "collapsed": true
   },
   "outputs": [],
   "source": [
    "import numpy as np\n",
    "import scipy as sp\n",
    "import pandas as pd\n",
    "from joblib import parallel, delayed"
   ]
  },
  {
   "cell_type": "markdown",
   "metadata": {},
   "source": [
    "Spectral Clustering using Adjacency Matrix and Laplacian:\n",
    "Adjacency:  optimizes on in group closeness\n",
    "Laplacian: Average cut\n",
    "A variant of the Laplacian: Normalized Cut\n",
    "\n",
    "In general, Laplacian has better behaved/more stable convergenence properties of eigenvectors (makes sense when we are dealing with random graphs).  \n",
    "\n",
    "TODO\n",
    "make function for laplacian\n",
    "make function for adjaceny matrix\n",
    "make function for non backtracking matrix\n",
    "\n",
    "make sampling method for blockmodel\n",
    "\n",
    "make function for power method\n",
    "\n",
    "make function for power method for subspace"
   ]
  },
  {
   "cell_type": "code",
   "execution_count": 2,
   "metadata": {
    "collapsed": false
   },
   "outputs": [],
   "source": [
    "#assume graphs are dictionaries of vertices with entries that are the incident vertices for now, we can change this later.  \n",
    "\n",
    "\n",
    "\n",
    "#compute laplacian\n",
    "    #f-Mf\n",
    "\n",
    "        #averaging function\n",
    "        \n",
    "simple_graph = {\n",
    "    0: [2,3],\n",
    "    1: [2, 3],\n",
    "    2: [3], \n",
    "    3: [0, 1]\n",
    "}\n",
    "\n",
    "simple_graph[1]\n",
    "\n",
    "vector = np.array([1,1,1,1])\n",
    "\n",
    "lst = [vector[i] for i in simple_graph[1]]\n"
   ]
  },
  {
   "cell_type": "code",
   "execution_count": 3,
   "metadata": {
    "collapsed": true
   },
   "outputs": [],
   "source": [
    "def AverageOperatorVertex(vertex, vector, graph):\n",
    "    lst = [vector[i] for i in graph[vertex]]\n",
    "    answer = np.sum(lst)\n",
    "    return(answer)"
   ]
  },
  {
   "cell_type": "code",
   "execution_count": 4,
   "metadata": {
    "collapsed": false
   },
   "outputs": [
    {
     "data": {
      "text/plain": [
       "4"
      ]
     },
     "execution_count": 4,
     "metadata": {},
     "output_type": "execute_result"
    }
   ],
   "source": [
    "AverageOperator(vertex = 2, vector = np.array([1,2,3,4]), graph = simple_graph)"
   ]
  },
  {
   "cell_type": "code",
   "execution_count": 5,
   "metadata": {
    "collapsed": true
   },
   "outputs": [],
   "source": [
    "\n",
    "def GraphLaplacian(graph, vector):\n",
    "    #takes in graph and vector on graph indices, returns new vector\n",
    "    new_vector = np.empty(len(vector),)\n",
    "    for i in graph:\n",
    "        #this step can be parallelized\n",
    "        new_vector[i] = AverageOperatorVertex(vertex=i, vector = vector, graph = graph)\n",
    "    return new_vector"
   ]
  },
  {
   "cell_type": "code",
   "execution_count": 6,
   "metadata": {
    "collapsed": false
   },
   "outputs": [
    {
     "data": {
      "text/plain": [
       "array([ 2.,  2.,  1.,  2.])"
      ]
     },
     "execution_count": 6,
     "metadata": {},
     "output_type": "execute_result"
    }
   ],
   "source": [
    "GraphLaplacian(simple_graph, np.array([1,1,1,1]))"
   ]
  },
  {
   "cell_type": "code",
   "execution_count": 145,
   "metadata": {
    "collapsed": false
   },
   "outputs": [],
   "source": [
    "#first try at implementing net\n",
    "\n",
    "#nonlinearity?\n",
    "#fixed number of layers for iterations\n",
    "#fixed subspace dimension for number of eigenvectors\n",
    "\n",
    "\n",
    "def ClusterNetForwardPass(Graph, layers, subspace_dim, vector=None):\n",
    "    #takes in graph, computes Laplacian, then does powermethod\n",
    "    #we end up with a list of k eigenvectors to do k-means on\n",
    "    #we assume Graph given as a dictionary\n",
    "    \n",
    "    if vector==None:\n",
    "        vector = np.random.normal(0,1,len(Graph)) #we initalize with function with random components as default\n",
    "    \n",
    "    eigenvectors = [vector]*subspace_dim #initialize list of eigvectors we want to return\n",
    "    \n",
    "    \n",
    "    for i in range(subspace_dim): #This is done for the number of eigenvectors we want to find.\n",
    "        #so this cannot be done in parallel.  \n",
    "        print i\n",
    "        #ghetto hack for operator tail recursion\n",
    "        lmbda_lst = np.zeros(subspace_dim)\n",
    "        for j in range(layers): #This is iterated for the power we want to bring the operator, \n",
    "            #so this cannot be done in parallel:\n",
    "            tmp_vector = GraphLaplacian(graph=Graph, vector=vector)\n",
    "            for k in range(subspace_dim):\n",
    "                tmp_vector = tmp_vector-lmbda_lst[k]*vector #this will only amount to something if our list contains eigenvectors\n",
    "            new_vector = tmp_vector/np.sqrt(np.dot(tmp_vector, tmp_vector))\n",
    "\n",
    "            \n",
    "        eigenvectors[i] = new_vector #this will already be normalized by the last iteration of j\n",
    "        lmbda_lst[i] = np.dot(GraphLaplacian(graph=Graph, vector = eigenvectors[i]), eigenvectors[i]) #since it is normalized,\n",
    "        #the scaling factor will be lamba\n",
    "        print lmbda_lst[i]\n",
    "        vector = np.random.normal(0,1,len(Graph))\n",
    "        #now we are onto finding the second eigenvector\n",
    "        #we should randomize the next vector\n",
    "        \n",
    "        print eigenvectors[i]\n",
    "\n",
    "        \n",
    "    return eigenvectors, lmbda_lst\n",
    "        "
   ]
  },
  {
   "cell_type": "code",
   "execution_count": 146,
   "metadata": {
    "collapsed": false
   },
   "outputs": [
    {
     "name": "stdout",
     "output_type": "stream",
     "text": [
      "0\n",
      "1.81217546299\n",
      "[ 0.47211757  0.47211757  0.38528508  0.63699718]\n",
      "1\n",
      "-0.141334047609\n",
      "[ 0.60805356  0.60805356  0.45090784 -0.23921508]\n"
     ]
    },
    {
     "data": {
      "text/plain": [
       "([array([ 0.47211757,  0.47211757,  0.38528508,  0.63699718]),\n",
       "  array([ 0.60805356,  0.60805356,  0.45090784, -0.23921508])],\n",
       " array([ 0.        , -0.14133405]))"
      ]
     },
     "execution_count": 146,
     "metadata": {},
     "output_type": "execute_result"
    }
   ],
   "source": [
    "ClusterNetForwardPass(Graph = simple_graph, layers = 10, subspace_dim=2)"
   ]
  },
  {
   "cell_type": "code",
   "execution_count": null,
   "metadata": {
    "collapsed": false
   },
   "outputs": [],
   "source": []
  },
  {
   "cell_type": "code",
   "execution_count": null,
   "metadata": {
    "collapsed": false
   },
   "outputs": [],
   "source": []
  },
  {
   "cell_type": "code",
   "execution_count": null,
   "metadata": {
    "collapsed": true
   },
   "outputs": [],
   "source": []
  }
 ],
 "metadata": {
  "kernelspec": {
   "display_name": "Python 2",
   "language": "python",
   "name": "python2"
  },
  "language_info": {
   "codemirror_mode": {
    "name": "ipython",
    "version": 2
   },
   "file_extension": ".py",
   "mimetype": "text/x-python",
   "name": "python",
   "nbconvert_exporter": "python",
   "pygments_lexer": "ipython2",
   "version": "2.7.11"
  }
 },
 "nbformat": 4,
 "nbformat_minor": 0
}
