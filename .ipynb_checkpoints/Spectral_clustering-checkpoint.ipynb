{
 "cells": [
  {
   "cell_type": "code",
   "execution_count": 1,
   "metadata": {
    "collapsed": true
   },
   "outputs": [],
   "source": [
    "import numpy as np\n",
    "import scipy as sp\n",
    "import pandas as pd\n",
    "from joblib import parallel, delayed"
   ]
  },
  {
   "cell_type": "markdown",
   "metadata": {},
   "source": [
    "Spectral Clustering using Adjacency Matrix and Laplacian:\n",
    "Adjacency:  optimizes on in group closeness\n",
    "Laplacian: Average cut\n",
    "A variant of the Laplacian: Normalized Cut\n",
    "\n",
    "In general, Laplacian has better behaved/more stable convergenence properties of eigenvectors (makes sense when we are dealing with random graphs).  \n",
    "\n",
    "TODO\n",
    "make function for laplacian\n",
    "make function for adjaceny matrix\n",
    "make function for non backtracking matrix\n",
    "\n",
    "make sampling method for blockmodel\n",
    "\n",
    "make function for power method\n",
    "\n",
    "make function for power method for subspace"
   ]
  },
  {
   "cell_type": "code",
   "execution_count": 2,
   "metadata": {
    "collapsed": false
   },
   "outputs": [],
   "source": [
    "#assume graphs are dictionaries of vertices with entries that are the incident vertices for now, we can change this later.  \n",
    "\n",
    "\n",
    "\n",
    "#compute laplacian\n",
    "    #f-Mf\n",
    "\n",
    "        #averaging function\n",
    "        \n",
    "simple_graph = {\n",
    "    0: [2,3],\n",
    "    1: [2, 3],\n",
    "    2: [3], \n",
    "    3: [0, 1]\n",
    "}\n",
    "\n",
    "simple_graph[1]\n",
    "\n",
    "vector = np.array([1,1,1,1])\n",
    "\n",
    "lst = [vector[i] for i in simple_graph[1]]\n"
   ]
  },
  {
   "cell_type": "code",
   "execution_count": 3,
   "metadata": {
    "collapsed": true
   },
   "outputs": [],
   "source": [
    "def AverageOperatorVertex(vertex, vector, graph):\n",
    "    lst = [vector[i] for i in graph[vertex]]\n",
    "    answer = np.sum(lst)\n",
    "    return(answer)"
   ]
  },
  {
   "cell_type": "code",
   "execution_count": 4,
   "metadata": {
    "collapsed": false
   },
   "outputs": [
    {
     "data": {
      "text/plain": [
       "4"
      ]
     },
     "execution_count": 4,
     "metadata": {},
     "output_type": "execute_result"
    }
   ],
   "source": [
    "AverageOperator(vertex = 2, vector = np.array([1,2,3,4]), graph = simple_graph)"
   ]
  },
  {
   "cell_type": "code",
   "execution_count": 5,
   "metadata": {
    "collapsed": true
   },
   "outputs": [],
   "source": [
    "\n",
    "def GraphLaplacian(graph, vector):\n",
    "    #takes in graph and vector on graph indices, returns new vector\n",
    "    new_vector = np.empty(len(vector),)\n",
    "    for i in graph:\n",
    "        #this step can be parallelized\n",
    "        new_vector[i] = AverageOperatorVertex(vertex=i, vector = vector, graph = graph)\n",
    "    return new_vector"
   ]
  },
  {
   "cell_type": "code",
   "execution_count": 6,
   "metadata": {
    "collapsed": false
   },
   "outputs": [
    {
     "data": {
      "text/plain": [
       "array([ 2.,  2.,  1.,  2.])"
      ]
     },
     "execution_count": 6,
     "metadata": {},
     "output_type": "execute_result"
    }
   ],
   "source": [
    "GraphLaplacian(simple_graph, np.array([1,1,1,1]))"
   ]
  },
  {
   "cell_type": "code",
   "execution_count": 70,
   "metadata": {
    "collapsed": false
   },
   "outputs": [],
   "source": [
    "#Power Method\n",
    "\n",
    "def PowerMethod(graph, vector):\n",
    "    #one iteration of the power method\n",
    "    #we assume the operator applies to the vector like the output of GraphLaplacian\n",
    "    \n",
    "    return GraphLaplacian(graph, vector)/np.sqrt(np.dot(GraphLaplacian(graph, vector), GraphLaplacian(graph, vector)))"
   ]
  },
  {
   "cell_type": "code",
   "execution_count": null,
   "metadata": {
    "collapsed": false
   },
   "outputs": [],
   "source": []
  },
  {
   "cell_type": "code",
   "execution_count": 71,
   "metadata": {
    "collapsed": false
   },
   "outputs": [],
   "source": [
    "#for the net we would like to use some random vector so that we have a good\n",
    "#chance of having non trivial component in direction of largest eigenvector\n",
    "\n",
    "def PowerMethod_iterate(iterations, graph, vector):\n",
    "    for i in range(iterations):\n",
    "        vector = PowerMethod(graph, vector)\n",
    "    return vector"
   ]
  },
  {
   "cell_type": "code",
   "execution_count": 74,
   "metadata": {
    "collapsed": false
   },
   "outputs": [
    {
     "data": {
      "text/plain": [
       "array([ 0.55448772,  0.55448772,  0.27752   ,  0.55503999])"
      ]
     },
     "execution_count": 74,
     "metadata": {},
     "output_type": "execute_result"
    }
   ],
   "source": [
    "PowerMethod_iterate(5, graph=simple_graph, vector=np.array([ 1,1000, 0,2]))"
   ]
  },
  {
   "cell_type": "code",
   "execution_count": 84,
   "metadata": {
    "collapsed": false
   },
   "outputs": [],
   "source": [
    "#first try at implementing net\n",
    "\n",
    "#nonlinearity?\n",
    "#fixed number of layers for iterations\n",
    "#fixed subspace dimension for number of eigenvectors\n",
    "\n",
    "\n",
    "def ClusterNet_1(Graph, layers, subspace_dim, vector=None):\n",
    "    #takes in graph, computes Laplacian, then does powermethod\n",
    "    #we end up with a list of k eigenvectors to do k-means on\n",
    "    #we assume Graph given as a dictionary\n",
    "    \n",
    "    if vector==None:\n",
    "        vector = np.ones(len(Graph)) #we initalize with function f==1\n",
    "    \n",
    "    eigenvectors = [[1]*len(vector)]*subspace_dim\n",
    "    \n",
    "    for i in range(subspace_dim): #this cannot be done in parallel\n",
    "        eigenvectors[i] = PowerMethod_iterate(iterations = layers, graph=Graph, vector=vector)\n",
    "        vector = vector - np.dot(vector, eigenvectors[i])\n",
    "        print vector\n",
    "        print eigenvectors[i]\n",
    "        #now we must do gram-schmidt and subtract away this vector  \n",
    "        \n",
    "    return eigenvectors\n",
    "        "
   ]
  },
  {
   "cell_type": "code",
   "execution_count": 86,
   "metadata": {
    "collapsed": false
   },
   "outputs": [
    {
     "name": "stdout",
     "output_type": "stream",
     "text": [
      "[-0.96384417 -0.96384417 -0.96384417 -0.96384417]\n",
      "[ 0.52101988  0.52101988  0.3339871   0.5878173 ]\n",
      "[-2.85668392 -2.85668392 -2.85668392 -2.85668392]\n",
      "[-0.52101988 -0.52101988 -0.3339871  -0.5878173 ]\n"
     ]
    },
    {
     "data": {
      "text/plain": [
       "[array([ 0.52101988,  0.52101988,  0.3339871 ,  0.5878173 ]),\n",
       " array([-0.52101988, -0.52101988, -0.3339871 , -0.5878173 ])]"
      ]
     },
     "execution_count": 86,
     "metadata": {},
     "output_type": "execute_result"
    }
   ],
   "source": [
    "ClusterNet_1(simple_graph, layers=10, subspace_dim=2)"
   ]
  },
  {
   "cell_type": "code",
   "execution_count": 62,
   "metadata": {
    "collapsed": false
   },
   "outputs": [
    {
     "data": {
      "text/plain": [
       "[[], [], [], [], [], [], [], [], [], []]"
      ]
     },
     "execution_count": 62,
     "metadata": {},
     "output_type": "execute_result"
    }
   ],
   "source": [
    "[[]]*10\n"
   ]
  },
  {
   "cell_type": "code",
   "execution_count": null,
   "metadata": {
    "collapsed": true
   },
   "outputs": [],
   "source": []
  }
 ],
 "metadata": {
  "kernelspec": {
   "display_name": "Python 2",
   "language": "python",
   "name": "python2"
  },
  "language_info": {
   "codemirror_mode": {
    "name": "ipython",
    "version": 2
   },
   "file_extension": ".py",
   "mimetype": "text/x-python",
   "name": "python",
   "nbconvert_exporter": "python",
   "pygments_lexer": "ipython2",
   "version": "2.7.11"
  }
 },
 "nbformat": 4,
 "nbformat_minor": 0
}
