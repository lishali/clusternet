{
 "cells": [
  {
   "cell_type": "code",
   "execution_count": 1,
   "metadata": {
    "collapsed": true
   },
   "outputs": [],
   "source": [
    "import numpy as np\n",
    "import scipy as sp\n",
    "import pandas as pd\n"
   ]
  },
  {
   "cell_type": "markdown",
   "metadata": {},
   "source": [
    "Spectral Clustering using Adjacency Matrix and Laplacian:\n",
    "Adjacency:  optimizes on in group closeness\n",
    "Laplacian: Average cut\n",
    "A variant of the Laplacian: Normalized Cut\n",
    "\n",
    "In general, Laplacian has better behaved/more stable convergenence properties of eigenvectors (makes sense when we are dealing with random graphs).  \n",
    "\n",
    "TODO\n",
    "make function for laplacian\n",
    "make function for adjaceny matrix\n",
    "make function for non backtracking matrix\n",
    "\n",
    "make sampling method for blockmodel\n",
    "\n",
    "make function for power method\n",
    "\n",
    "make function for power method for subspace"
   ]
  },
  {
   "cell_type": "code",
   "execution_count": 37,
   "metadata": {
    "collapsed": false
   },
   "outputs": [
    {
     "data": {
      "text/plain": [
       "2"
      ]
     },
     "execution_count": 37,
     "metadata": {},
     "output_type": "execute_result"
    }
   ],
   "source": [
    "#assume graphs are dictionaries of vertices with entries that are the incident vertices for now, we can change this later.  \n",
    "\n",
    "\n",
    "\n",
    "#compute laplacian\n",
    "    #f-Mf\n",
    "\n",
    "        #averaging function\n",
    "        \n",
    "simple_graph = {\n",
    "    0: [2,3],\n",
    "    1: [2, 3],\n",
    "    2: [3], \n",
    "    3: [0, 1]\n",
    "}\n",
    "\n",
    "simple_graph[1]\n",
    "\n",
    "vector = np.array([1,1,1,1])\n",
    "\n",
    "lst = [vector[i] for i in simple_graph[1]]\n"
   ]
  },
  {
   "cell_type": "code",
   "execution_count": 34,
   "metadata": {
    "collapsed": true
   },
   "outputs": [],
   "source": [
    "def AverageOperator(vertex, vector, graph):\n",
    "    lst = [vector[i] for i in graph[vertex]]\n",
    "    answer = np.sum(lst)\n",
    "    return(answer)"
   ]
  },
  {
   "cell_type": "code",
   "execution_count": 36,
   "metadata": {
    "collapsed": false
   },
   "outputs": [
    {
     "data": {
      "text/plain": [
       "4"
      ]
     },
     "execution_count": 36,
     "metadata": {},
     "output_type": "execute_result"
    }
   ],
   "source": [
    "AverageOperator(vertex = 2, vector = np.array([1,2,3,4]), graph = simple_graph)"
   ]
  },
  {
   "cell_type": "code",
   "execution_count": 51,
   "metadata": {
    "collapsed": true
   },
   "outputs": [],
   "source": [
    "\n",
    "def GraphLaplacian(graph, vector):\n",
    "    #takes in graph and vector on graph indices, returns new vector\n",
    "    new_vector = np.empty(len(vector),)\n",
    "    for i in graph:\n",
    "        #this step can be parallelized\n",
    "        new_vector[i] = AverageOperator(vertex=i, vector = vector, graph = graph)\n",
    "    return new_vector"
   ]
  },
  {
   "cell_type": "code",
   "execution_count": 52,
   "metadata": {
    "collapsed": false
   },
   "outputs": [
    {
     "data": {
      "text/plain": [
       "array([ 2.,  2.,  1.,  2.])"
      ]
     },
     "execution_count": 52,
     "metadata": {},
     "output_type": "execute_result"
    }
   ],
   "source": [
    "GraphLaplacian(simple_graph, np.array([1,1,1,1]))"
   ]
  },
  {
   "cell_type": "code",
   "execution_count": 53,
   "metadata": {
    "collapsed": false
   },
   "outputs": [
    {
     "ename": "NameError",
     "evalue": "name 'install' is not defined",
     "output_type": "error",
     "traceback": [
      "\u001b[0;31m---------------------------------------------------------------------------\u001b[0m",
      "\u001b[0;31mNameError\u001b[0m                                 Traceback (most recent call last)",
      "\u001b[0;32m<ipython-input-53-f5be4cd4e01a>\u001b[0m in \u001b[0;36m<module>\u001b[0;34m()\u001b[0m\n\u001b[0;32m----> 1\u001b[0;31m \u001b[0minstall\u001b[0m\u001b[0;34m(\u001b[0m\u001b[0;34m\"joblib\"\u001b[0m\u001b[0;34m)\u001b[0m\u001b[0;34m\u001b[0m\u001b[0m\n\u001b[0m",
      "\u001b[0;31mNameError\u001b[0m: name 'install' is not defined"
     ]
    }
   ],
   "source": []
  },
  {
   "cell_type": "code",
   "execution_count": null,
   "metadata": {
    "collapsed": true
   },
   "outputs": [],
   "source": []
  }
 ],
 "metadata": {
  "kernelspec": {
   "display_name": "Python 2",
   "language": "python",
   "name": "python2"
  },
  "language_info": {
   "codemirror_mode": {
    "name": "ipython",
    "version": 2
   },
   "file_extension": ".py",
   "mimetype": "text/x-python",
   "name": "python",
   "nbconvert_exporter": "python",
   "pygments_lexer": "ipython2",
   "version": "2.7.11"
  }
 },
 "nbformat": 4,
 "nbformat_minor": 0
}
