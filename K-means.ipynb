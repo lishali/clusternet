{
 "cells": [
  {
   "cell_type": "code",
   "execution_count": 1,
   "metadata": {
    "collapsed": true
   },
   "outputs": [],
   "source": [
    "import numpy as np\n",
    "import scipy as sp\n",
    "import pandas as pd\n",
    "import random\n",
    "import matplotlib.pyplot as plt\n",
    "import tensorflow as tf\n",
    "\n",
    "%matplotlib inline"
   ]
  },
  {
   "cell_type": "code",
   "execution_count": 2,
   "metadata": {
    "collapsed": true
   },
   "outputs": [],
   "source": [
    "num_puntos = 2000\n",
    "conjunto_puntos = []\n",
    "for i in xrange(num_puntos):\n",
    "    if np.random.random() < 0.5:\n",
    "        conjunto_puntos.append([np.random.normal(0.0, 0.9), np.random.normal(0.0, 0.9)])\n",
    "    else:\n",
    "        conjunto_puntos.append([np.random.normal(3.0, 0.5), np.random.normal(1.0, 0.5)])\n",
    "        "
   ]
  },
  {
   "cell_type": "code",
   "execution_count": 3,
   "metadata": {
    "collapsed": false
   },
   "outputs": [
    {
     "ename": "ImportError",
     "evalue": "No module named seaborn",
     "output_type": "error",
     "traceback": [
      "\u001b[0;31m---------------------------------------------------------------------------\u001b[0m",
      "\u001b[0;31mImportError\u001b[0m                               Traceback (most recent call last)",
      "\u001b[0;32m<ipython-input-3-3394459c41d9>\u001b[0m in \u001b[0;36m<module>\u001b[0;34m()\u001b[0m\n\u001b[1;32m      1\u001b[0m \u001b[0;32mimport\u001b[0m \u001b[0mpandas\u001b[0m \u001b[0;32mas\u001b[0m \u001b[0mpd\u001b[0m\u001b[0;34m\u001b[0m\u001b[0m\n\u001b[0;32m----> 2\u001b[0;31m \u001b[0;32mimport\u001b[0m \u001b[0mseaborn\u001b[0m \u001b[0;32mas\u001b[0m \u001b[0msns\u001b[0m\u001b[0;34m\u001b[0m\u001b[0m\n\u001b[0m\u001b[1;32m      3\u001b[0m \u001b[0;34m\u001b[0m\u001b[0m\n\u001b[1;32m      4\u001b[0m df = pd.DataFrame({\"x\": [v[0] for v in conjunto_puntos],\n\u001b[1;32m      5\u001b[0m                   \"y\": [v[1] for v in conjunto_puntos]})\n",
      "\u001b[0;31mImportError\u001b[0m: No module named seaborn"
     ]
    }
   ],
   "source": [
    "import pandas as pd\n",
    "import seaborn as sns\n",
    "\n",
    "df = pd.DataFrame({\"x\": [v[0] for v in conjunto_puntos],\n",
    "                  \"y\": [v[1] for v in conjunto_puntos]})\n",
    "\n",
    "sns.lmplot(\"x\", \"y\", data = df, fit_reg=False, size = 6)"
   ]
  },
  {
   "cell_type": "code",
   "execution_count": 4,
   "metadata": {
    "collapsed": false
   },
   "outputs": [
    {
     "name": "stdout",
     "output_type": "stream",
     "text": [
      "(2000, 2)\n",
      "(2, 2)\n"
     ]
    }
   ],
   "source": [
    "vectors = tf.constant(conjunto_puntos)\n",
    "k = 2\n",
    "centroides = tf.Variable(tf.slice(tf.random_shuffle(vectors),[0,0],[k,-1]))\n",
    "\n",
    "print vectors.get_shape()\n",
    "print centroides.get_shape()\n",
    "\n"
   ]
  },
  {
   "cell_type": "code",
   "execution_count": 5,
   "metadata": {
    "collapsed": false
   },
   "outputs": [
    {
     "name": "stdout",
     "output_type": "stream",
     "text": [
      "(1, 2000, 2)\n",
      "(2, 1, 2)\n"
     ]
    }
   ],
   "source": [
    "\n",
    "expanded_vectors = tf.expand_dims(vectors, 0) \n",
    "#above we expanded the dimension along the first dim\n",
    "expanded_centroides = tf.expand_dims(centroides, 1)\n",
    "#here we expanded along the 2nd dimension\n",
    "\n",
    "#since the centroides are a different dimensional tensor from the data\n",
    "#we need to expand the tensors along on dimension to allow tensorflow to do manipulations of the two\n",
    "\n",
    "print expanded_vectors.get_shape()\n",
    "print expanded_centroides.get_shape()\n"
   ]
  },
  {
   "cell_type": "code",
   "execution_count": 6,
   "metadata": {
    "collapsed": true
   },
   "outputs": [],
   "source": [
    "#as we can see the dimensions were not assigned yet\n",
    "\n",
    "diff = tf.sub(expanded_vectors, expanded_centroides)\n",
    "\n",
    "#really interesting, it knows to take the difference between \n",
    "#each of the four centroides with all of the other tensors\n",
    "\n",
    "sqr = tf.square(diff)\n",
    "#now we need to sum the square difference accross each centroid\n",
    "#the 2 indicates we want to preserve the y and x components (last dimension)\n",
    "#but otherwise we are minimizing the total sum\n",
    "distances = tf.reduce_sum(sqr, 2) \n",
    "assignments = tf.argmin(distances, 0)\n",
    "#this gives us the smallest distance centroid for each of the 2000 data points. \n"
   ]
  },
  {
   "cell_type": "code",
   "execution_count": 7,
   "metadata": {
    "collapsed": true
   },
   "outputs": [],
   "source": [
    "\n",
    "#simplified version of code, comment out to run\n",
    "\n",
    "#assignments = tf.argmin(tf.reduce_sum(tf.square(tf.sub(expanded_vectors, expanded_centroides)), 2), 0)\n",
    "\n",
    "means = tf.concat(0, \n",
    "                  [tf.reduce_mean(\n",
    "            tf.gather(\n",
    "                vectors, tf.reshape(\n",
    "                    tf.where( \n",
    "                        tf.equal(assignments, c)),[1,-1])),\n",
    "            reduction_indices=[1]) for c in xrange(k)])\n",
    "\n",
    "update_centroides = tf.assign(centroides, means)\n",
    "\n",
    "init_op = tf.initialize_all_variables()\n",
    "\n",
    "sess = tf.Session()\n",
    "sess.run(init_op)\n"
   ]
  },
  {
   "cell_type": "code",
   "execution_count": null,
   "metadata": {
    "collapsed": true
   },
   "outputs": [],
   "source": [
    "\n",
    "for step in xrange(100):\n",
    "   _, centroid_values, assignment_values = sess.run([centroides, update_centroides, assignments])\n",
    "\n",
    "print sess.run([update_centroides, centroides, assignments])\n",
    "\n",
    "data = {\"x\": [], \"y\": [], \"cluster\": []}\n",
    "\n",
    "for i in xrange(len(assignment_values)):\n",
    "  data[\"x\"].append(conjunto_puntos[i][0])\n",
    "  data[\"y\"].append(conjunto_puntos[i][1])\n",
    "  data[\"cluster\"].append(assignment_values[i])\n",
    "\n",
    "df = pd.DataFrame(data)\n",
    "sns.lmplot(\"x\", \"y\", data=df, fit_reg=False, size=6, hue=\"cluster\", legend=False)\n",
    "plt.show()"
   ]
  }
 ],
 "metadata": {
  "anaconda-cloud": {},
  "kernelspec": {
   "display_name": "Python [default]",
   "language": "python",
   "name": "python2"
  },
  "language_info": {
   "codemirror_mode": {
    "name": "ipython",
    "version": 2
   },
   "file_extension": ".py",
   "mimetype": "text/x-python",
   "name": "python",
   "nbconvert_exporter": "python",
   "pygments_lexer": "ipython2",
   "version": "2.7.12"
  }
 },
 "nbformat": 4,
 "nbformat_minor": 1
}
